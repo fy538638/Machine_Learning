{
 "cells": [
  {
   "cell_type": "code",
   "execution_count": 1,
   "id": "6cf0edc6",
   "metadata": {},
   "outputs": [],
   "source": [
    "from sklearn.datasets import fetch_20newsgroups\n",
    "\n",
    "from sklearn.pipeline import Pipeline\n",
    "from sklearn.model_selection import GridSearchCV\n",
    "\n",
    "from sklearn.feature_extraction.text import TfidfVectorizer\n",
    "\n",
    "\n",
    "from gensim.sklearn_api import W2VTransformer\n",
    "from gensim.sklearn_api import D2VTransformer\n",
    "from gensim.models import Word2Vec\n",
    "from gensim.models import Doc2Vec\n",
    "\n",
    "from sklearn.svm import SVC\n",
    "from sklearn.tree import DecisionTreeClassifier\n",
    "from sklearn.linear_model import LogisticRegression\n",
    "from sklearn.naive_bayes import MultinomialNB"
   ]
  },
  {
   "cell_type": "markdown",
   "id": "fc969895",
   "metadata": {},
   "source": [
    "#### categories"
   ]
  },
  {
   "cell_type": "code",
   "execution_count": 2,
   "id": "c9ddda6c",
   "metadata": {},
   "outputs": [],
   "source": [
    "categories = [\n",
    "'alt.atheism',\n",
    "'talk.religion.misc',\n",
    "'comp.graphics',\n",
    "]"
   ]
  },
  {
   "cell_type": "markdown",
   "id": "57f06a03",
   "metadata": {},
   "source": [
    "#### dataset"
   ]
  },
  {
   "cell_type": "code",
   "execution_count": 3,
   "id": "0f7f31eb",
   "metadata": {},
   "outputs": [
    {
     "name": "stdout",
     "output_type": "stream",
     "text": [
      "1441 documents\n",
      "3 categories\n"
     ]
    }
   ],
   "source": [
    "data = fetch_20newsgroups(subset='train',categories=categories)\n",
    "print(f\"{len(data.filenames)} documents\")\n",
    "print(f\"{len(data.target_names)} categories\")"
   ]
  },
  {
   "cell_type": "markdown",
   "id": "97631395",
   "metadata": {},
   "source": [
    "#### data glance"
   ]
  },
  {
   "cell_type": "code",
   "execution_count": 5,
   "id": "b28d6bd1",
   "metadata": {},
   "outputs": [
    {
     "data": {
      "text/plain": [
       "list"
      ]
     },
     "execution_count": 5,
     "metadata": {},
     "output_type": "execute_result"
    }
   ],
   "source": [
    "type(data.data)"
   ]
  },
  {
   "cell_type": "code",
   "execution_count": 7,
   "id": "c0b3653a",
   "metadata": {},
   "outputs": [
    {
     "data": {
      "text/plain": [
       "1441"
      ]
     },
     "execution_count": 7,
     "metadata": {},
     "output_type": "execute_result"
    }
   ],
   "source": [
    "len(data.data)"
   ]
  },
  {
   "cell_type": "code",
   "execution_count": 9,
   "id": "44b75d2b",
   "metadata": {},
   "outputs": [
    {
     "data": {
      "text/plain": [
       "[\"From: psyrobtw@ubvmsd.cc.buffalo.edu (Robert Weiss)\\nSubject: 18 Apr 93   God's Promise in Philippians 4:9\\nOrganization: University at Buffalo\\nLines: 8\\nNews-Software: VAX/VMS VNEWS 1.41\\nNntp-Posting-Host: ubvmsd.cc.buffalo.edu\\n\\n\\n\\tThose things,\\n\\twhich ye have both learned, and received,\\n\\tand heard, and seen in me,\\n\\tdo:\\n\\tand the God of peace shall be with you.\\n\\n\\tPhilippians 4:9\\n\",\n",
       " 'From: myless@vaxc.cc.monash.edu.au (Myles Strous)\\nSubject: J.C.Jensen\\'s bitmap code\\nOrganization: Computer Centre, Monash University, Australia\\nLines: 18\\n\\nGreetings all.\\n\\tAccording to a FAQ I read, on 30 July 1992, Joshua C. Jensen posted an \\narticle on bitmap manipulation (specifically, scaling and perspective) to the \\nnewsgroup rec.games.programmer. (article 7716)\\n\\tThe article included source code in Turbo Pascal with inline assembly \\nlanguage.\\n\\n\\tI have been unable to find an archive for this newsgroup, or a current \\nemail address for Joshua C. Jensen.\\n\\tIf anyone has the above details, or a copy of the code, could they \\nplease let me know.\\tMany thanks.\\n\\t\\t\\t\\t\\tYours gratefully, etc.  Myles.\\n\\n-- \\nMyles Strous\\t|\\tEmail: myles.strous@lib.monash.edu.au\\nraytracing fan\\t|\\tPhone: +61.51.226536\\n\"Got the same urgent grasp of reality as a cardboard cut-out. Proud to have him \\non the team.\" Archchancellor Mustrum Ridcully, in Reaper Man by Terry Pratchett\\n',\n",
       " 'Organization: Penn State University\\nFrom: <DGS4@psuvm.psu.edu>\\nSubject: Re: ABORTION and private health coverage -- letters regarding\\n <sandvik-140493233557@sandvik-kent.apple.com> <1qk73q$3fj@agate.berkeley.edu>\\n <syt5br_@rpi.edu> <nyikos.735335582@milo.math.scarolina.edu>\\nLines: 41\\n\\nIn article <nyikos.735335582@milo.math.scarolina.edu>, nyikos@math.scarolina.edu\\n(Peter Nyikos) says:\\n>\\n>In <syt5br_@rpi.edu> rocker@acm.rpi.edu (rocker) writes:\\n>\\n>>In <1qk73q$3fj@agate.berkeley.edu> dzkriz@ocf.berkeley.edu (Dennis Kriz)\\n>writes:\\n>\\n>>>If one is paying for a PRIVATE health insurance plan and DOES NOT WANT\\n>>>\"abortion coverage\" there is NO reason for that person to be COMPLELLED\\n>>>to pay for it.  (Just as one should not be compelled to pay for lipposuction\\n>>>coverage if ONE doesn\\'t WANT that kind of coverage).\\n>\\n>>You appear to be stunningly ignorant of the underlying concept of health\\n>>insurance.\\n>\\n>Are you any less stunningly ignorant?  Have you ever heard of life\\n>insurance premiums some companies give in which nonsmokers are charged\\n>much smaller premiums than smokers?\\n>\\n>Not to mention auto insurance being much cheaper for women under 25 than\\n>for men under 25, because women on the average drive more carefully\\n>than most men--in fact, almost as carefully as I did before I was 25.\\n\\nAs many people have mentioned, there is no reason why insurers could not\\noffer a contract without abortion services for a different premium.\\nThe problem is that there is no guarantee that this premium would be\\nlower for those who chose this type of contract.  Although you are\\nremoving one service, that may have feedbacks into other types of covered\\ncare which results in a net increase in actuarial costs.\\n\\nFor an illustrative example in the opposite direction, it may be possible\\nto ADD services to an insurance contract and REDUCE the premium.  If you\\nadd preventative services and this reduces acute care use, then the total\\npremium may fall.\\n\\nThese words and thoughts are my own. * I am not bound to swear\\n**      **      **       **          * allegiance to the word of any\\n  **  **  **  **  **  **             * master. Where the storm carries\\n    **      **      **               * me, I put into port and make\\nD. Shea, PSU                         * myself at home.\\n']"
      ]
     },
     "execution_count": 9,
     "metadata": {},
     "output_type": "execute_result"
    }
   ],
   "source": [
    "data.data[:3]"
   ]
  },
  {
   "cell_type": "code",
   "execution_count": 10,
   "id": "5ef2eb29",
   "metadata": {
    "scrolled": false
   },
   "outputs": [
    {
     "data": {
      "text/plain": [
       "numpy.ndarray"
      ]
     },
     "execution_count": 10,
     "metadata": {},
     "output_type": "execute_result"
    }
   ],
   "source": [
    "type(data.target)"
   ]
  },
  {
   "cell_type": "code",
   "execution_count": 11,
   "id": "bcbe01b5",
   "metadata": {},
   "outputs": [
    {
     "data": {
      "text/plain": [
       "1441"
      ]
     },
     "execution_count": 11,
     "metadata": {},
     "output_type": "execute_result"
    }
   ],
   "source": [
    "len(data.target)"
   ]
  },
  {
   "cell_type": "code",
   "execution_count": 12,
   "id": "046cd478",
   "metadata": {},
   "outputs": [
    {
     "data": {
      "text/plain": [
       "{0, 1, 2}"
      ]
     },
     "execution_count": 12,
     "metadata": {},
     "output_type": "execute_result"
    }
   ],
   "source": [
    "set(data.target)"
   ]
  },
  {
   "cell_type": "markdown",
   "id": "55edbc64",
   "metadata": {},
   "source": [
    "#### combination1: svm+TfidfVectorizer"
   ]
  },
  {
   "cell_type": "code",
   "execution_count": 13,
   "id": "d7424fcb",
   "metadata": {
    "scrolled": true
   },
   "outputs": [],
   "source": [
    "pipeline1 = Pipeline([('vect', TfidfVectorizer()),('svc', SVC()),])"
   ]
  },
  {
   "cell_type": "code",
   "execution_count": 14,
   "id": "aeb6c00f",
   "metadata": {},
   "outputs": [],
   "source": [
    "parameters1={'vect__max_df': (0.5, 0.75, 1.0),\n",
    "'vect__max_features': (None, 5000, 10000, 50000),\n",
    "'vect__ngram_range': ((1, 1), (1, 2)),\n",
    "'svc__C': (1,5),\n",
    "'svc__gamma': ('scale','auto'),\n",
    "'svc__random_state': (30,42)}"
   ]
  },
  {
   "cell_type": "code",
   "execution_count": 15,
   "id": "8da10288",
   "metadata": {},
   "outputs": [],
   "source": [
    "gs1 = GridSearchCV(pipeline1, parameters1, cv=5,n_jobs=-1, verbose=1)"
   ]
  },
  {
   "cell_type": "code",
   "execution_count": 16,
   "id": "b14cbee1",
   "metadata": {},
   "outputs": [
    {
     "name": "stdout",
     "output_type": "stream",
     "text": [
      "Fitting 5 folds for each of 192 candidates, totalling 960 fits\n"
     ]
    },
    {
     "data": {
      "text/plain": [
       "GridSearchCV(cv=5,\n",
       "             estimator=Pipeline(steps=[('vect', TfidfVectorizer()),\n",
       "                                       ('svc', SVC())]),\n",
       "             n_jobs=-1,\n",
       "             param_grid={'svc__C': (1, 5), 'svc__gamma': ('scale', 'auto'),\n",
       "                         'svc__random_state': (30, 42),\n",
       "                         'vect__max_df': (0.5, 0.75, 1.0),\n",
       "                         'vect__max_features': (None, 5000, 10000, 50000),\n",
       "                         'vect__ngram_range': ((1, 1), (1, 2))},\n",
       "             verbose=1)"
      ]
     },
     "execution_count": 16,
     "metadata": {},
     "output_type": "execute_result"
    }
   ],
   "source": [
    "gs1.fit(data.data, data.target)"
   ]
  },
  {
   "cell_type": "code",
   "execution_count": 17,
   "id": "ef05c3c5",
   "metadata": {
    "scrolled": true
   },
   "outputs": [
    {
     "name": "stdout",
     "output_type": "stream",
     "text": [
      "Best score: 0.9577\n"
     ]
    }
   ],
   "source": [
    "print(\"Best score: %0.4f\" % gs1.best_score_)"
   ]
  },
  {
   "cell_type": "code",
   "execution_count": 18,
   "id": "1fa11f43",
   "metadata": {},
   "outputs": [
    {
     "name": "stdout",
     "output_type": "stream",
     "text": [
      "Best parameters set:\n",
      "\tsvc__C: 5\n",
      "\tsvc__gamma: 'scale'\n",
      "\tsvc__random_state: 30\n",
      "\tvect__max_df: 0.5\n",
      "\tvect__max_features: 5000\n",
      "\tvect__ngram_range: (1, 1)\n"
     ]
    }
   ],
   "source": [
    "print(\"Best parameters set:\")\n",
    "best_parameters1 = gs1.best_estimator_.get_params()\n",
    "for param_name in sorted(parameters1.keys()):\n",
    "    print(\"\\t%s: %r\" % (param_name, best_parameters1[param_name]))"
   ]
  },
  {
   "attachments": {},
   "cell_type": "markdown",
   "id": "9b151455",
   "metadata": {},
   "source": [
    "#### combination2:  DecisionTree+TfidfVectorizer"
   ]
  },
  {
   "cell_type": "code",
   "execution_count": 23,
   "id": "3c09f70c",
   "metadata": {},
   "outputs": [],
   "source": [
    "pipeline4 = Pipeline([('vect', TfidfVectorizer()),('dt', DecisionTreeClassifier()),])"
   ]
  },
  {
   "cell_type": "code",
   "execution_count": 24,
   "id": "067565e1",
   "metadata": {},
   "outputs": [],
   "source": [
    "parameters4={'vect__max_df': (0.5, 0.75, 1.0),\n",
    "'vect__max_features': (None, 5000, 10000, 50000),\n",
    "'vect__ngram_range': ((1, 1), (1, 2)),\n",
    "'dt__criterion':('gini','entropy'), \n",
    "'dt__splitter':['random'],\n",
    "'dt__max_depth':(100,200),\n",
    "}"
   ]
  },
  {
   "cell_type": "code",
   "execution_count": 25,
   "id": "be09239c",
   "metadata": {},
   "outputs": [],
   "source": [
    "gs4 = GridSearchCV(pipeline4, parameters4, cv=5,n_jobs=-1, verbose=1)"
   ]
  },
  {
   "cell_type": "code",
   "execution_count": 26,
   "id": "a636f5d6",
   "metadata": {
    "scrolled": true
   },
   "outputs": [
    {
     "name": "stdout",
     "output_type": "stream",
     "text": [
      "Fitting 5 folds for each of 96 candidates, totalling 480 fits\n"
     ]
    },
    {
     "data": {
      "text/plain": [
       "GridSearchCV(cv=5,\n",
       "             estimator=Pipeline(steps=[('vect', TfidfVectorizer()),\n",
       "                                       ('dt', DecisionTreeClassifier())]),\n",
       "             n_jobs=-1,\n",
       "             param_grid={'dt__criterion': ('gini', 'entropy'),\n",
       "                         'dt__max_depth': (100, 200),\n",
       "                         'dt__splitter': ['random'],\n",
       "                         'vect__max_df': (0.5, 0.75, 1.0),\n",
       "                         'vect__max_features': (None, 5000, 10000, 50000),\n",
       "                         'vect__ngram_range': ((1, 1), (1, 2))},\n",
       "             verbose=1)"
      ]
     },
     "execution_count": 26,
     "metadata": {},
     "output_type": "execute_result"
    }
   ],
   "source": [
    "gs4.fit(data.data, data.target)"
   ]
  },
  {
   "cell_type": "code",
   "execution_count": 27,
   "id": "3b6a044f",
   "metadata": {},
   "outputs": [
    {
     "name": "stdout",
     "output_type": "stream",
     "text": [
      "Best score: 0.8231\n"
     ]
    }
   ],
   "source": [
    "print(\"Best score: %0.4f\" % gs4.best_score_)"
   ]
  },
  {
   "cell_type": "code",
   "execution_count": 28,
   "id": "72437493",
   "metadata": {},
   "outputs": [
    {
     "name": "stdout",
     "output_type": "stream",
     "text": [
      "Best parameters set:\n",
      "\tdt__criterion: 'gini'\n",
      "\tdt__max_depth: 200\n",
      "\tdt__splitter: 'random'\n",
      "\tvect__max_df: 1.0\n",
      "\tvect__max_features: None\n",
      "\tvect__ngram_range: (1, 2)\n"
     ]
    }
   ],
   "source": [
    "print(\"Best parameters set:\")\n",
    "best_parameters4 = gs4.best_estimator_.get_params()\n",
    "for param_name in sorted(parameters4.keys()):\n",
    "    print(\"\\t%s: %r\" % (param_name, best_parameters4[param_name]))"
   ]
  },
  {
   "attachments": {},
   "cell_type": "markdown",
   "id": "87368069",
   "metadata": {},
   "source": [
    "#### combination3: LogisticRegression+TfidfVectorizer"
   ]
  },
  {
   "cell_type": "code",
   "execution_count": 45,
   "id": "14b78a4d",
   "metadata": {},
   "outputs": [],
   "source": [
    "pipeline7 = Pipeline([('vect', TfidfVectorizer()),('lr', LogisticRegression()),])"
   ]
  },
  {
   "cell_type": "code",
   "execution_count": 46,
   "id": "ecc66848",
   "metadata": {},
   "outputs": [],
   "source": [
    "parameters7={'vect__max_df': (0.5, 0.75, 1.0),\n",
    "'vect__max_features': (None, 5000, 10000, 50000),\n",
    "'vect__ngram_range': ((1, 1), (1, 2)),\n",
    "'lr__C': (3,5),\n",
    "'lr__penalty': ('none','l2'),\n",
    "'lr__max_iter': (80,100)}"
   ]
  },
  {
   "cell_type": "code",
   "execution_count": 47,
   "id": "83e228e6",
   "metadata": {},
   "outputs": [],
   "source": [
    "gs7 = GridSearchCV(pipeline7, parameters7, cv=5,n_jobs=-1, verbose=1)"
   ]
  },
  {
   "cell_type": "code",
   "execution_count": 48,
   "id": "44166a4b",
   "metadata": {
    "scrolled": true
   },
   "outputs": [
    {
     "name": "stdout",
     "output_type": "stream",
     "text": [
      "Fitting 5 folds for each of 192 candidates, totalling 960 fits\n"
     ]
    },
    {
     "name": "stderr",
     "output_type": "stream",
     "text": [
      "d:\\anaconda\\envs\\ML-Fangyi\\lib\\site-packages\\sklearn\\linear_model\\_logistic.py:1484: UserWarning: Setting penalty='none' will ignore the C and l1_ratio parameters\n",
      "  \"Setting penalty='none' will ignore the C and l1_ratio parameters\"\n"
     ]
    },
    {
     "data": {
      "text/plain": [
       "GridSearchCV(cv=5,\n",
       "             estimator=Pipeline(steps=[('vect', TfidfVectorizer()),\n",
       "                                       ('lr', LogisticRegression())]),\n",
       "             n_jobs=-1,\n",
       "             param_grid={'lr__C': (3, 5), 'lr__max_iter': (80, 100),\n",
       "                         'lr__penalty': ('none', 'l2'),\n",
       "                         'vect__max_df': (0.5, 0.75, 1.0),\n",
       "                         'vect__max_features': (None, 5000, 10000, 50000),\n",
       "                         'vect__ngram_range': ((1, 1), (1, 2))},\n",
       "             verbose=1)"
      ]
     },
     "execution_count": 48,
     "metadata": {},
     "output_type": "execute_result"
    }
   ],
   "source": [
    "gs7.fit(data.data, data.target)"
   ]
  },
  {
   "cell_type": "code",
   "execution_count": 49,
   "id": "cfa21341",
   "metadata": {
    "scrolled": true
   },
   "outputs": [
    {
     "name": "stdout",
     "output_type": "stream",
     "text": [
      "Best score: 0.9605\n"
     ]
    }
   ],
   "source": [
    "print(\"Best score: %0.4f\" % gs7.best_score_)"
   ]
  },
  {
   "cell_type": "code",
   "execution_count": 50,
   "id": "6796e783",
   "metadata": {
    "scrolled": false
   },
   "outputs": [
    {
     "name": "stdout",
     "output_type": "stream",
     "text": [
      "Best parameters set:\n",
      "\tlr__C: 3\n",
      "\tlr__max_iter: 80\n",
      "\tlr__penalty: 'none'\n",
      "\tvect__max_df: 0.5\n",
      "\tvect__max_features: None\n",
      "\tvect__ngram_range: (1, 1)\n"
     ]
    }
   ],
   "source": [
    "print(\"Best parameters set:\")\n",
    "best_parameters7 = gs7.best_estimator_.get_params()\n",
    "for param_name in sorted(parameters7.keys()):\n",
    "    print(\"\\t%s: %r\" % (param_name, best_parameters7[param_name]))"
   ]
  },
  {
   "attachments": {},
   "cell_type": "markdown",
   "id": "6596df96",
   "metadata": {},
   "source": [
    "#### combination4: Multinomial Naïve Bayes+TfidfVectorizer"
   ]
  },
  {
   "cell_type": "code",
   "execution_count": 62,
   "id": "6c0eaebe",
   "metadata": {},
   "outputs": [],
   "source": [
    "pipeline10 = Pipeline([('vect', TfidfVectorizer()),('mnb', MultinomialNB()),])"
   ]
  },
  {
   "cell_type": "code",
   "execution_count": 63,
   "id": "73b6c741",
   "metadata": {},
   "outputs": [],
   "source": [
    "parameters10={'vect__max_df': (0.5, 0.75, 1.0),\n",
    "'vect__max_features': (None, 5000, 10000, 50000),\n",
    "'vect__ngram_range': ((1, 1), (1, 2)),\n",
    "'mnb__alpha':(0.5,1,1.5)}"
   ]
  },
  {
   "cell_type": "code",
   "execution_count": 64,
   "id": "764e39cf",
   "metadata": {},
   "outputs": [],
   "source": [
    "gs10 = GridSearchCV(pipeline10, parameters10, cv=5,n_jobs=-1, verbose=1)"
   ]
  },
  {
   "cell_type": "code",
   "execution_count": 65,
   "id": "f8f9d20a",
   "metadata": {},
   "outputs": [
    {
     "name": "stdout",
     "output_type": "stream",
     "text": [
      "Fitting 5 folds for each of 72 candidates, totalling 360 fits\n"
     ]
    },
    {
     "data": {
      "text/plain": [
       "GridSearchCV(cv=5,\n",
       "             estimator=Pipeline(steps=[('vect', TfidfVectorizer()),\n",
       "                                       ('mnb', MultinomialNB())]),\n",
       "             n_jobs=-1,\n",
       "             param_grid={'mnb__alpha': (0.5, 1, 1.5),\n",
       "                         'vect__max_df': (0.5, 0.75, 1.0),\n",
       "                         'vect__max_features': (None, 5000, 10000, 50000),\n",
       "                         'vect__ngram_range': ((1, 1), (1, 2))},\n",
       "             verbose=1)"
      ]
     },
     "execution_count": 65,
     "metadata": {},
     "output_type": "execute_result"
    }
   ],
   "source": [
    "gs10.fit(data.data, data.target)"
   ]
  },
  {
   "cell_type": "code",
   "execution_count": 67,
   "id": "1c4f38c7",
   "metadata": {},
   "outputs": [
    {
     "name": "stdout",
     "output_type": "stream",
     "text": [
      "Best score: 0.9403\n"
     ]
    }
   ],
   "source": [
    "print(\"Best score: %0.4f\" % gs10.best_score_)"
   ]
  },
  {
   "cell_type": "code",
   "execution_count": 68,
   "id": "adc40e6f",
   "metadata": {},
   "outputs": [
    {
     "name": "stdout",
     "output_type": "stream",
     "text": [
      "Best parameters set:\n",
      "\tmnb__alpha: 0.5\n",
      "\tvect__max_df: 0.5\n",
      "\tvect__max_features: 5000\n",
      "\tvect__ngram_range: (1, 1)\n"
     ]
    }
   ],
   "source": [
    "print(\"Best parameters set:\")\n",
    "best_parameters10 = gs10.best_estimator_.get_params()\n",
    "for param_name in sorted(parameters10.keys()):\n",
    "    print(\"\\t%s: %r\" % (param_name, best_parameters10[param_name]))"
   ]
  }
 ],
 "metadata": {
  "kernelspec": {
   "display_name": "ML-Fangyi",
   "language": "python",
   "name": "ml-fangyi"
  },
  "language_info": {
   "codemirror_mode": {
    "name": "ipython",
    "version": 3
   },
   "file_extension": ".py",
   "mimetype": "text/x-python",
   "name": "python",
   "nbconvert_exporter": "python",
   "pygments_lexer": "ipython3",
   "version": "3.7.13"
  }
 },
 "nbformat": 4,
 "nbformat_minor": 5
}
