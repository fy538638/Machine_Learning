{
 "cells": [
  {
   "attachments": {},
   "cell_type": "markdown",
   "metadata": {},
   "source": [
    "*when doing the pivot table, it shows int32 overflow. I tried to split the whole table into a few, but still the whole process crashes, whether in Kaggle Kernel or Google Colab. So here before processing three tables, I will restrict their scope first.*"
   ]
  },
  {
   "cell_type": "markdown",
   "metadata": {},
   "source": [
    "## Data Acquisition"
   ]
  },
  {
   "attachments": {},
   "cell_type": "markdown",
   "metadata": {},
   "source": [
    "#### get data"
   ]
  },
  {
   "cell_type": "code",
   "execution_count": 1,
   "metadata": {
    "execution": {
     "iopub.execute_input": "2022-11-20T08:50:48.261773Z",
     "iopub.status.busy": "2022-11-20T08:50:48.261360Z",
     "iopub.status.idle": "2022-11-20T08:51:01.830321Z",
     "shell.execute_reply": "2022-11-20T08:51:01.829283Z",
     "shell.execute_reply.started": "2022-11-20T08:50:48.261738Z"
    }
   },
   "outputs": [],
   "source": [
    "import pandas as pd\n",
    "\n",
    "movie = 'movies.csv'\n",
    "rating='ratings.csv'\n",
    "tag='tags.csv'\n",
    "\n",
    "movies = pd.read_csv(movie)\n",
    "ratings=pd.read_csv(rating)\n",
    "tags=pd.read_csv(tag)"
   ]
  },
  {
   "cell_type": "code",
   "execution_count": 2,
   "metadata": {
    "execution": {
     "iopub.execute_input": "2022-11-20T08:51:03.574213Z",
     "iopub.status.busy": "2022-11-20T08:51:03.573481Z",
     "iopub.status.idle": "2022-11-20T08:51:03.580385Z",
     "shell.execute_reply": "2022-11-20T08:51:03.579180Z",
     "shell.execute_reply.started": "2022-11-20T08:51:03.574174Z"
    }
   },
   "outputs": [
    {
     "name": "stdout",
     "output_type": "stream",
     "text": [
      "Index(['userId', 'movieId', 'tag', 'timestamp'], dtype='object')\n",
      "Index(['movieId', 'title', 'genres'], dtype='object')\n",
      "Index(['userId', 'movieId', 'rating', 'timestamp'], dtype='object')\n"
     ]
    }
   ],
   "source": [
    "print(tags.columns)\n",
    "print(movies.columns)\n",
    "print(ratings.columns)"
   ]
  },
  {
   "cell_type": "code",
   "execution_count": null,
   "metadata": {},
   "outputs": [
    {
     "data": {
      "text/plain": [
       "(27278, 20000263, 465564)"
      ]
     },
     "metadata": {},
     "output_type": "display_data"
    }
   ],
   "source": [
    "len(movies), len(ratings), len(tags)"
   ]
  },
  {
   "attachments": {},
   "cell_type": "markdown",
   "metadata": {},
   "source": [
    "#### how three tables interact"
   ]
  },
  {
   "cell_type": "code",
   "execution_count": null,
   "metadata": {},
   "outputs": [
    {
     "data": {
      "text/plain": [
       "1         1\n",
       "91044     1\n",
       "91035     1\n",
       "91031     1\n",
       "91028     1\n",
       "         ..\n",
       "26853     1\n",
       "26851     1\n",
       "26850     1\n",
       "26849     1\n",
       "131262    1\n",
       "Name: movieId, Length: 27278, dtype: int64"
      ]
     },
     "metadata": {},
     "output_type": "display_data"
    }
   ],
   "source": [
    "movies['movieId'].value_counts()         #movie is uniquely shown here"
   ]
  },
  {
   "cell_type": "code",
   "execution_count": null,
   "metadata": {},
   "outputs": [
    {
     "data": {
      "text/plain": [
       "(118205    9254\n",
       " 8405      7515\n",
       " 82418     5646\n",
       " 121535    5520\n",
       " 125794    5491\n",
       "           ... \n",
       " 89305       20\n",
       " 110463      20\n",
       " 96990       20\n",
       " 134747      20\n",
       " 6526        20\n",
       " Name: userId, Length: 138493, dtype: int64,\n",
       " 296       67310\n",
       " 356       66172\n",
       " 318       63366\n",
       " 593       63299\n",
       " 480       59715\n",
       "           ...  \n",
       " 125545        1\n",
       " 78873         1\n",
       " 112907        1\n",
       " 112909        1\n",
       " 110510        1\n",
       " Name: movieId, Length: 26744, dtype: int64)"
      ]
     },
     "metadata": {},
     "output_type": "display_data"
    }
   ],
   "source": [
    "ratings['userId'].value_counts(),ratings['movieId'].value_counts()     #each user tags many movies; each movie is tagged by many users"
   ]
  },
  {
   "cell_type": "code",
   "execution_count": null,
   "metadata": {},
   "outputs": [
    {
     "data": {
      "text/plain": [
       "(88738     20356\n",
       " 70201     13541\n",
       " 130827    10642\n",
       " 58612      9497\n",
       " 123297     8369\n",
       "           ...  \n",
       " 76213         1\n",
       " 76226         1\n",
       " 76364         1\n",
       " 76375         1\n",
       " 138472        1\n",
       " Name: userId, Length: 7801, dtype: int64,\n",
       " 296       1994\n",
       " 2959      1779\n",
       " 79132     1552\n",
       " 2571      1430\n",
       " 318       1339\n",
       "           ... \n",
       " 116702       1\n",
       " 116698       1\n",
       " 116672       1\n",
       " 116660       1\n",
       " 1495         1\n",
       " Name: movieId, Length: 19545, dtype: int64)"
      ]
     },
     "metadata": {},
     "output_type": "display_data"
    }
   ],
   "source": [
    "tags['userId'].value_counts(),tags['movieId'].value_counts()      #each user rates many movies; each movie is rated by many users"
   ]
  },
  {
   "cell_type": "markdown",
   "metadata": {},
   "source": [
    "## Data Restriction"
   ]
  },
  {
   "cell_type": "code",
   "execution_count": 3,
   "metadata": {
    "execution": {
     "iopub.execute_input": "2022-11-20T08:51:05.404570Z",
     "iopub.status.busy": "2022-11-20T08:51:05.404183Z",
     "iopub.status.idle": "2022-11-20T08:51:11.818770Z",
     "shell.execute_reply": "2022-11-20T08:51:11.817674Z",
     "shell.execute_reply.started": "2022-11-20T08:51:05.404536Z"
    }
   },
   "outputs": [],
   "source": [
    "ratings['userId']=ratings['userId'].apply(int)\n",
    "newratings=ratings.loc[ratings['userId']<4000]"
   ]
  },
  {
   "cell_type": "code",
   "execution_count": 4,
   "metadata": {
    "execution": {
     "iopub.execute_input": "2022-11-20T08:51:18.833085Z",
     "iopub.status.busy": "2022-11-20T08:51:18.832696Z",
     "iopub.status.idle": "2022-11-20T08:51:18.974566Z",
     "shell.execute_reply": "2022-11-20T08:51:18.973569Z",
     "shell.execute_reply.started": "2022-11-20T08:51:18.833051Z"
    }
   },
   "outputs": [],
   "source": [
    "tags['userId']=tags['userId'].apply(int)\n",
    "newtags=tags.loc[tags['userId']<4000]"
   ]
  },
  {
   "cell_type": "code",
   "execution_count": 5,
   "metadata": {},
   "outputs": [
    {
     "data": {
      "text/plain": [
       "13096"
      ]
     },
     "execution_count": 5,
     "metadata": {},
     "output_type": "execute_result"
    }
   ],
   "source": [
    "len(newratings['movieId'].unique())"
   ]
  },
  {
   "cell_type": "code",
   "execution_count": 6,
   "metadata": {},
   "outputs": [
    {
     "data": {
      "text/plain": [
       "3932"
      ]
     },
     "execution_count": 6,
     "metadata": {},
     "output_type": "execute_result"
    }
   ],
   "source": [
    "len(newtags['movieId'].unique())"
   ]
  },
  {
   "cell_type": "code",
   "execution_count": 7,
   "metadata": {
    "execution": {
     "iopub.execute_input": "2022-11-20T08:52:05.150443Z",
     "iopub.status.busy": "2022-11-20T08:52:05.150038Z",
     "iopub.status.idle": "2022-11-20T08:52:05.175009Z",
     "shell.execute_reply": "2022-11-20T08:52:05.174049Z",
     "shell.execute_reply.started": "2022-11-20T08:52:05.150410Z"
    }
   },
   "outputs": [],
   "source": [
    "newmovies=movies.loc[movies['movieId'].isin(list(newratings['movieId'].unique()))]"
   ]
  },
  {
   "cell_type": "code",
   "execution_count": 8,
   "metadata": {},
   "outputs": [
    {
     "data": {
      "text/plain": [
       "13096"
      ]
     },
     "execution_count": 8,
     "metadata": {},
     "output_type": "execute_result"
    }
   ],
   "source": [
    "len(newmovies['movieId'].unique())"
   ]
  },
  {
   "cell_type": "code",
   "execution_count": 9,
   "metadata": {
    "execution": {
     "iopub.execute_input": "2022-11-20T08:52:10.229826Z",
     "iopub.status.busy": "2022-11-20T08:52:10.228817Z",
     "iopub.status.idle": "2022-11-20T08:52:10.235808Z",
     "shell.execute_reply": "2022-11-20T08:52:10.234698Z",
     "shell.execute_reply.started": "2022-11-20T08:52:10.229781Z"
    }
   },
   "outputs": [
    {
     "name": "stdout",
     "output_type": "stream",
     "text": [
      "16324 597451 13096\n"
     ]
    }
   ],
   "source": [
    "print(len(newtags),len(newratings),len(newmovies))"
   ]
  },
  {
   "attachments": {
    "image.png": {
     "image/png": "[encoded data removed]"
    }
   },
   "cell_type": "markdown",
   "metadata": {},
   "source": [
    "![image.png](attachment:image.png)"
   ]
  },
  {
   "attachments": {},
   "cell_type": "markdown",
   "metadata": {},
   "source": [
    "## A. content filter"
   ]
  },
  {
   "cell_type": "markdown",
   "metadata": {},
   "source": [
    "#### metadata preparation"
   ]
  },
  {
   "cell_type": "markdown",
   "metadata": {},
   "source": [
    "- \"tags\" groupby movie"
   ]
  },
  {
   "cell_type": "code",
   "execution_count": 10,
   "metadata": {
    "execution": {
     "iopub.execute_input": "2022-11-20T08:52:13.933743Z",
     "iopub.status.busy": "2022-11-20T08:52:13.933303Z",
     "iopub.status.idle": "2022-11-20T08:52:13.943893Z",
     "shell.execute_reply": "2022-11-20T08:52:13.942710Z",
     "shell.execute_reply.started": "2022-11-20T08:52:13.933710Z"
    }
   },
   "outputs": [
    {
     "name": "stderr",
     "output_type": "stream",
     "text": [
      "C:\\Users\\Fangyi\\AppData\\Roaming\\Python\\Python37\\site-packages\\ipykernel_launcher.py:1: SettingWithCopyWarning: \n",
      "A value is trying to be set on a copy of a slice from a DataFrame.\n",
      "Try using .loc[row_indexer,col_indexer] = value instead\n",
      "\n",
      "See the caveats in the documentation: https://pandas.pydata.org/pandas-docs/stable/user_guide/indexing.html#returning-a-view-versus-a-copy\n",
      "  \"\"\"Entry point for launching an IPython kernel.\n"
     ]
    }
   ],
   "source": [
    "newtags['tag']=newtags['tag'].apply(str)\n",
    "newtags=newtags.drop(['userId','timestamp'],axis = 1) "
   ]
  },
  {
   "cell_type": "code",
   "execution_count": 11,
   "metadata": {
    "execution": {
     "iopub.execute_input": "2022-11-20T08:52:16.807609Z",
     "iopub.status.busy": "2022-11-20T08:52:16.806585Z",
     "iopub.status.idle": "2022-11-20T08:52:16.857403Z",
     "shell.execute_reply": "2022-11-20T08:52:16.856287Z",
     "shell.execute_reply.started": "2022-11-20T08:52:16.807570Z"
    }
   },
   "outputs": [
    {
     "data": {
      "text/html": [
       "<div>\n",
       "<style scoped>\n",
       "    .dataframe tbody tr th:only-of-type {\n",
       "        vertical-align: middle;\n",
       "    }\n",
       "\n",
       "    .dataframe tbody tr th {\n",
       "        vertical-align: top;\n",
       "    }\n",
       "\n",
       "    .dataframe thead th {\n",
       "        text-align: right;\n",
       "    }\n",
       "</style>\n",
       "<table border=\"1\" class=\"dataframe\">\n",
       "  <thead>\n",
       "    <tr style=\"text-align: right;\">\n",
       "      <th></th>\n",
       "      <th>movieId</th>\n",
       "      <th>tag</th>\n",
       "    </tr>\n",
       "  </thead>\n",
       "  <tbody>\n",
       "    <tr>\n",
       "      <th>0</th>\n",
       "      <td>1</td>\n",
       "      <td>Watched/computer animation/Disney animated fea...</td>\n",
       "    </tr>\n",
       "    <tr>\n",
       "      <th>1</th>\n",
       "      <td>2</td>\n",
       "      <td>time travel/adapted from:book/board game/child...</td>\n",
       "    </tr>\n",
       "    <tr>\n",
       "      <th>2</th>\n",
       "      <td>3</td>\n",
       "      <td>old people that is actually funny</td>\n",
       "    </tr>\n",
       "    <tr>\n",
       "      <th>3</th>\n",
       "      <td>6</td>\n",
       "      <td>realistic action/Al Pacino/Michael Mann/Robert...</td>\n",
       "    </tr>\n",
       "    <tr>\n",
       "      <th>4</th>\n",
       "      <td>7</td>\n",
       "      <td>Greg Kinnear/romance/remadeAs:Sabrina(1995)/re...</td>\n",
       "    </tr>\n",
       "    <tr>\n",
       "      <th>...</th>\n",
       "      <td>...</td>\n",
       "      <td>...</td>\n",
       "    </tr>\n",
       "    <tr>\n",
       "      <th>3927</th>\n",
       "      <td>127319</td>\n",
       "      <td>plot twists</td>\n",
       "    </tr>\n",
       "    <tr>\n",
       "      <th>3928</th>\n",
       "      <td>127323</td>\n",
       "      <td>fake imdb rating/plot holes</td>\n",
       "    </tr>\n",
       "    <tr>\n",
       "      <th>3929</th>\n",
       "      <td>128601</td>\n",
       "      <td>pain/tearjerker</td>\n",
       "    </tr>\n",
       "    <tr>\n",
       "      <th>3930</th>\n",
       "      <td>128622</td>\n",
       "      <td>crush/love story</td>\n",
       "    </tr>\n",
       "    <tr>\n",
       "      <th>3931</th>\n",
       "      <td>129303</td>\n",
       "      <td>camp</td>\n",
       "    </tr>\n",
       "  </tbody>\n",
       "</table>\n",
       "<p>3932 rows × 2 columns</p>\n",
       "</div>"
      ],
      "text/plain": [
       "      movieId                                                tag\n",
       "0           1  Watched/computer animation/Disney animated fea...\n",
       "1           2  time travel/adapted from:book/board game/child...\n",
       "2           3                  old people that is actually funny\n",
       "3           6  realistic action/Al Pacino/Michael Mann/Robert...\n",
       "4           7  Greg Kinnear/romance/remadeAs:Sabrina(1995)/re...\n",
       "...       ...                                                ...\n",
       "3927   127319                                        plot twists\n",
       "3928   127323                        fake imdb rating/plot holes\n",
       "3929   128601                                    pain/tearjerker\n",
       "3930   128622                                   crush/love story\n",
       "3931   129303                                               camp\n",
       "\n",
       "[3932 rows x 2 columns]"
      ]
     },
     "execution_count": 11,
     "metadata": {},
     "output_type": "execute_result"
    }
   ],
   "source": [
    "newtags_grouped = newtags.groupby('movieId')['tag'].agg('/'.join).reset_index()\n",
    "newtags_grouped"
   ]
  },
  {
   "cell_type": "markdown",
   "metadata": {},
   "source": [
    "- \"tags\" after grouby will combine with \"movies\" "
   ]
  },
  {
   "cell_type": "code",
   "execution_count": 13,
   "metadata": {
    "execution": {
     "iopub.execute_input": "2022-11-20T08:52:33.602498Z",
     "iopub.status.busy": "2022-11-20T08:52:33.602115Z",
     "iopub.status.idle": "2022-11-20T08:52:33.623356Z",
     "shell.execute_reply": "2022-11-20T08:52:33.622000Z",
     "shell.execute_reply.started": "2022-11-20T08:52:33.602468Z"
    }
   },
   "outputs": [
    {
     "data": {
      "text/html": [
       "<div>\n",
       "<style scoped>\n",
       "    .dataframe tbody tr th:only-of-type {\n",
       "        vertical-align: middle;\n",
       "    }\n",
       "\n",
       "    .dataframe tbody tr th {\n",
       "        vertical-align: top;\n",
       "    }\n",
       "\n",
       "    .dataframe thead th {\n",
       "        text-align: right;\n",
       "    }\n",
       "</style>\n",
       "<table border=\"1\" class=\"dataframe\">\n",
       "  <thead>\n",
       "    <tr style=\"text-align: right;\">\n",
       "      <th></th>\n",
       "      <th>movieId</th>\n",
       "      <th>title</th>\n",
       "      <th>genres</th>\n",
       "      <th>tag</th>\n",
       "    </tr>\n",
       "  </thead>\n",
       "  <tbody>\n",
       "    <tr>\n",
       "      <th>0</th>\n",
       "      <td>1</td>\n",
       "      <td>Toy Story (1995)</td>\n",
       "      <td>Adventure|Animation|Children|Comedy|Fantasy</td>\n",
       "      <td>Watched/computer animation/Disney animated fea...</td>\n",
       "    </tr>\n",
       "    <tr>\n",
       "      <th>1</th>\n",
       "      <td>2</td>\n",
       "      <td>Jumanji (1995)</td>\n",
       "      <td>Adventure|Children|Fantasy</td>\n",
       "      <td>time travel/adapted from:book/board game/child...</td>\n",
       "    </tr>\n",
       "    <tr>\n",
       "      <th>2</th>\n",
       "      <td>3</td>\n",
       "      <td>Grumpier Old Men (1995)</td>\n",
       "      <td>Comedy|Romance</td>\n",
       "      <td>old people that is actually funny</td>\n",
       "    </tr>\n",
       "    <tr>\n",
       "      <th>3</th>\n",
       "      <td>4</td>\n",
       "      <td>Waiting to Exhale (1995)</td>\n",
       "      <td>Comedy|Drama|Romance</td>\n",
       "      <td>NaN</td>\n",
       "    </tr>\n",
       "    <tr>\n",
       "      <th>4</th>\n",
       "      <td>5</td>\n",
       "      <td>Father of the Bride Part II (1995)</td>\n",
       "      <td>Comedy</td>\n",
       "      <td>NaN</td>\n",
       "    </tr>\n",
       "    <tr>\n",
       "      <th>...</th>\n",
       "      <td>...</td>\n",
       "      <td>...</td>\n",
       "      <td>...</td>\n",
       "      <td>...</td>\n",
       "    </tr>\n",
       "    <tr>\n",
       "      <th>13091</th>\n",
       "      <td>129707</td>\n",
       "      <td>The Lazarus Effect (2015)</td>\n",
       "      <td>Horror|Thriller</td>\n",
       "      <td>NaN</td>\n",
       "    </tr>\n",
       "    <tr>\n",
       "      <th>13092</th>\n",
       "      <td>130052</td>\n",
       "      <td>Clown (2014)</td>\n",
       "      <td>Drama|Horror</td>\n",
       "      <td>NaN</td>\n",
       "    </tr>\n",
       "    <tr>\n",
       "      <th>13093</th>\n",
       "      <td>130219</td>\n",
       "      <td>The Dark Knight (2011)</td>\n",
       "      <td>Action|Crime|Drama|Thriller</td>\n",
       "      <td>NaN</td>\n",
       "    </tr>\n",
       "    <tr>\n",
       "      <th>13094</th>\n",
       "      <td>130490</td>\n",
       "      <td>Insurgent (2015)</td>\n",
       "      <td>Action|Romance|Sci-Fi</td>\n",
       "      <td>NaN</td>\n",
       "    </tr>\n",
       "    <tr>\n",
       "      <th>13095</th>\n",
       "      <td>130642</td>\n",
       "      <td>Backcountry (2014)</td>\n",
       "      <td>Drama|Horror|Thriller</td>\n",
       "      <td>NaN</td>\n",
       "    </tr>\n",
       "  </tbody>\n",
       "</table>\n",
       "<p>13096 rows × 4 columns</p>\n",
       "</div>"
      ],
      "text/plain": [
       "       movieId                               title  \\\n",
       "0            1                    Toy Story (1995)   \n",
       "1            2                      Jumanji (1995)   \n",
       "2            3             Grumpier Old Men (1995)   \n",
       "3            4            Waiting to Exhale (1995)   \n",
       "4            5  Father of the Bride Part II (1995)   \n",
       "...        ...                                 ...   \n",
       "13091   129707           The Lazarus Effect (2015)   \n",
       "13092   130052                        Clown (2014)   \n",
       "13093   130219              The Dark Knight (2011)   \n",
       "13094   130490                    Insurgent (2015)   \n",
       "13095   130642                  Backcountry (2014)   \n",
       "\n",
       "                                            genres  \\\n",
       "0      Adventure|Animation|Children|Comedy|Fantasy   \n",
       "1                       Adventure|Children|Fantasy   \n",
       "2                                   Comedy|Romance   \n",
       "3                             Comedy|Drama|Romance   \n",
       "4                                           Comedy   \n",
       "...                                            ...   \n",
       "13091                              Horror|Thriller   \n",
       "13092                                 Drama|Horror   \n",
       "13093                  Action|Crime|Drama|Thriller   \n",
       "13094                        Action|Romance|Sci-Fi   \n",
       "13095                        Drama|Horror|Thriller   \n",
       "\n",
       "                                                     tag  \n",
       "0      Watched/computer animation/Disney animated fea...  \n",
       "1      time travel/adapted from:book/board game/child...  \n",
       "2                      old people that is actually funny  \n",
       "3                                                    NaN  \n",
       "4                                                    NaN  \n",
       "...                                                  ...  \n",
       "13091                                                NaN  \n",
       "13092                                                NaN  \n",
       "13093                                                NaN  \n",
       "13094                                                NaN  \n",
       "13095                                                NaN  \n",
       "\n",
       "[13096 rows x 4 columns]"
      ]
     },
     "execution_count": 13,
     "metadata": {},
     "output_type": "execute_result"
    }
   ],
   "source": [
    "merge_movieandtag=pd.merge(newmovies, newtags_grouped, on='movieId',how='left')\n",
    "merge_movieandtag"
   ]
  },
  {
   "cell_type": "code",
   "execution_count": 14,
   "metadata": {
    "execution": {
     "iopub.execute_input": "2022-11-20T08:52:36.195386Z",
     "iopub.status.busy": "2022-11-20T08:52:36.194681Z",
     "iopub.status.idle": "2022-11-20T08:52:36.202498Z",
     "shell.execute_reply": "2022-11-20T08:52:36.201397Z",
     "shell.execute_reply.started": "2022-11-20T08:52:36.195349Z"
    }
   },
   "outputs": [],
   "source": [
    "merge_movieandtag['tag']=merge_movieandtag['tag'].fillna('')"
   ]
  },
  {
   "cell_type": "markdown",
   "metadata": {},
   "source": [
    "- newly creatd col for merged data "
   ]
  },
  {
   "cell_type": "code",
   "execution_count": 15,
   "metadata": {
    "execution": {
     "iopub.execute_input": "2022-11-20T08:52:39.549371Z",
     "iopub.status.busy": "2022-11-20T08:52:39.548664Z",
     "iopub.status.idle": "2022-11-20T08:52:39.556560Z",
     "shell.execute_reply": "2022-11-20T08:52:39.555289Z",
     "shell.execute_reply.started": "2022-11-20T08:52:39.549335Z"
    }
   },
   "outputs": [],
   "source": [
    "merge_movieandtag['genres']=merge_movieandtag['genres'].apply(str)"
   ]
  },
  {
   "cell_type": "code",
   "execution_count": 16,
   "metadata": {
    "execution": {
     "iopub.execute_input": "2022-11-20T08:52:41.369496Z",
     "iopub.status.busy": "2022-11-20T08:52:41.369098Z",
     "iopub.status.idle": "2022-11-20T08:52:41.809430Z",
     "shell.execute_reply": "2022-11-20T08:52:41.808420Z",
     "shell.execute_reply.started": "2022-11-20T08:52:41.369464Z"
    }
   },
   "outputs": [],
   "source": [
    "merge_movieandtag['metadata'] =merge_movieandtag[['genres', 'tag']].agg('++'.join, axis=1)"
   ]
  },
  {
   "cell_type": "code",
   "execution_count": 17,
   "metadata": {
    "execution": {
     "iopub.execute_input": "2022-11-20T08:52:49.891498Z",
     "iopub.status.busy": "2022-11-20T08:52:49.891128Z",
     "iopub.status.idle": "2022-11-20T08:52:49.904672Z",
     "shell.execute_reply": "2022-11-20T08:52:49.903692Z",
     "shell.execute_reply.started": "2022-11-20T08:52:49.891468Z"
    }
   },
   "outputs": [
    {
     "data": {
      "text/html": [
       "<div>\n",
       "<style scoped>\n",
       "    .dataframe tbody tr th:only-of-type {\n",
       "        vertical-align: middle;\n",
       "    }\n",
       "\n",
       "    .dataframe tbody tr th {\n",
       "        vertical-align: top;\n",
       "    }\n",
       "\n",
       "    .dataframe thead th {\n",
       "        text-align: right;\n",
       "    }\n",
       "</style>\n",
       "<table border=\"1\" class=\"dataframe\">\n",
       "  <thead>\n",
       "    <tr style=\"text-align: right;\">\n",
       "      <th></th>\n",
       "      <th>movieId</th>\n",
       "      <th>title</th>\n",
       "      <th>genres</th>\n",
       "      <th>tag</th>\n",
       "      <th>metadata</th>\n",
       "    </tr>\n",
       "  </thead>\n",
       "  <tbody>\n",
       "    <tr>\n",
       "      <th>0</th>\n",
       "      <td>1</td>\n",
       "      <td>Toy Story (1995)</td>\n",
       "      <td>Adventure|Animation|Children|Comedy|Fantasy</td>\n",
       "      <td>Watched/computer animation/Disney animated fea...</td>\n",
       "      <td>Adventure|Animation|Children|Comedy|Fantasy++W...</td>\n",
       "    </tr>\n",
       "    <tr>\n",
       "      <th>1</th>\n",
       "      <td>2</td>\n",
       "      <td>Jumanji (1995)</td>\n",
       "      <td>Adventure|Children|Fantasy</td>\n",
       "      <td>time travel/adapted from:book/board game/child...</td>\n",
       "      <td>Adventure|Children|Fantasy++time travel/adapte...</td>\n",
       "    </tr>\n",
       "    <tr>\n",
       "      <th>2</th>\n",
       "      <td>3</td>\n",
       "      <td>Grumpier Old Men (1995)</td>\n",
       "      <td>Comedy|Romance</td>\n",
       "      <td>old people that is actually funny</td>\n",
       "      <td>Comedy|Romance++old people that is actually funny</td>\n",
       "    </tr>\n",
       "    <tr>\n",
       "      <th>3</th>\n",
       "      <td>4</td>\n",
       "      <td>Waiting to Exhale (1995)</td>\n",
       "      <td>Comedy|Drama|Romance</td>\n",
       "      <td></td>\n",
       "      <td>Comedy|Drama|Romance++</td>\n",
       "    </tr>\n",
       "    <tr>\n",
       "      <th>4</th>\n",
       "      <td>5</td>\n",
       "      <td>Father of the Bride Part II (1995)</td>\n",
       "      <td>Comedy</td>\n",
       "      <td></td>\n",
       "      <td>Comedy++</td>\n",
       "    </tr>\n",
       "  </tbody>\n",
       "</table>\n",
       "</div>"
      ],
      "text/plain": [
       "   movieId                               title  \\\n",
       "0        1                    Toy Story (1995)   \n",
       "1        2                      Jumanji (1995)   \n",
       "2        3             Grumpier Old Men (1995)   \n",
       "3        4            Waiting to Exhale (1995)   \n",
       "4        5  Father of the Bride Part II (1995)   \n",
       "\n",
       "                                        genres  \\\n",
       "0  Adventure|Animation|Children|Comedy|Fantasy   \n",
       "1                   Adventure|Children|Fantasy   \n",
       "2                               Comedy|Romance   \n",
       "3                         Comedy|Drama|Romance   \n",
       "4                                       Comedy   \n",
       "\n",
       "                                                 tag  \\\n",
       "0  Watched/computer animation/Disney animated fea...   \n",
       "1  time travel/adapted from:book/board game/child...   \n",
       "2                  old people that is actually funny   \n",
       "3                                                      \n",
       "4                                                      \n",
       "\n",
       "                                            metadata  \n",
       "0  Adventure|Animation|Children|Comedy|Fantasy++W...  \n",
       "1  Adventure|Children|Fantasy++time travel/adapte...  \n",
       "2  Comedy|Romance++old people that is actually funny  \n",
       "3                             Comedy|Drama|Romance++  \n",
       "4                                           Comedy++  "
      ]
     },
     "execution_count": 17,
     "metadata": {},
     "output_type": "execute_result"
    }
   ],
   "source": [
    "merge_movieandtag.head(5)"
   ]
  },
  {
   "cell_type": "markdown",
   "metadata": {},
   "source": [
    "#### TF-IDF Vectorizer"
   ]
  },
  {
   "cell_type": "code",
   "execution_count": 18,
   "metadata": {
    "execution": {
     "iopub.execute_input": "2022-11-20T08:52:52.178961Z",
     "iopub.status.busy": "2022-11-20T08:52:52.176861Z",
     "iopub.status.idle": "2022-11-20T08:52:53.783807Z",
     "shell.execute_reply": "2022-11-20T08:52:53.782574Z",
     "shell.execute_reply.started": "2022-11-20T08:52:52.178911Z"
    }
   },
   "outputs": [
    {
     "name": "stdout",
     "output_type": "stream",
     "text": [
      "(13096, 4888)\n"
     ]
    }
   ],
   "source": [
    "from sklearn.feature_extraction.text import TfidfVectorizer\n",
    "tfidf = TfidfVectorizer(stop_words='english')\n",
    "tfidf_matrix = tfidf.fit_transform(merge_movieandtag['metadata'])\n",
    "tfidf_df = pd.DataFrame(tfidf_matrix.toarray(), index=merge_movieandtag.index.tolist())\n",
    "print(tfidf_df.shape)"
   ]
  },
  {
   "cell_type": "markdown",
   "metadata": {},
   "source": [
    "####  TruncatedSVD"
   ]
  },
  {
   "cell_type": "code",
   "execution_count": 19,
   "metadata": {
    "execution": {
     "iopub.execute_input": "2022-11-20T08:53:03.576695Z",
     "iopub.status.busy": "2022-11-20T08:53:03.576284Z",
     "iopub.status.idle": "2022-11-20T08:53:07.906694Z",
     "shell.execute_reply": "2022-11-20T08:53:07.905592Z",
     "shell.execute_reply.started": "2022-11-20T08:53:03.576655Z"
    }
   },
   "outputs": [
    {
     "data": {
      "image/png": "[encoded data removed]",
      "text/plain": [
       "<Figure size 640x480 with 1 Axes>"
      ]
     },
     "metadata": {},
     "output_type": "display_data"
    }
   ],
   "source": [
    "from matplotlib import pyplot as plt\n",
    "from sklearn.decomposition import TruncatedSVD\n",
    "svd = TruncatedSVD(n_components=19)\n",
    "latent_matrix = svd.fit_transform(tfidf_df)\n",
    "# plot var expalined to see what latent dimensions to use\n",
    "explained = svd.explained_variance_ratio_.cumsum()\n",
    "plt.plot(explained, '.-', ms = 16, color='red')\n",
    "plt.xlabel('Singular value components', fontsize= 12)\n",
    "plt.ylabel('Cumulative percent of variance', fontsize=12)        \n",
    "plt.show()"
   ]
  },
  {
   "cell_type": "code",
   "execution_count": 20,
   "metadata": {
    "execution": {
     "iopub.execute_input": "2022-11-20T08:53:17.160829Z",
     "iopub.status.busy": "2022-11-20T08:53:17.160048Z",
     "iopub.status.idle": "2022-11-20T08:53:17.167958Z",
     "shell.execute_reply": "2022-11-20T08:53:17.166882Z",
     "shell.execute_reply.started": "2022-11-20T08:53:17.160791Z"
    }
   },
   "outputs": [],
   "source": [
    "n = 20\n",
    "latent_matrix_1_df = pd.DataFrame(latent_matrix[:,0:n], index=merge_movieandtag.title.tolist())"
   ]
  },
  {
   "cell_type": "code",
   "execution_count": 21,
   "metadata": {
    "execution": {
     "iopub.execute_input": "2022-11-20T08:53:21.343177Z",
     "iopub.status.busy": "2022-11-20T08:53:21.342130Z",
     "iopub.status.idle": "2022-11-20T08:53:21.351849Z",
     "shell.execute_reply": "2022-11-20T08:53:21.350456Z",
     "shell.execute_reply.started": "2022-11-20T08:53:21.343124Z"
    }
   },
   "outputs": [
    {
     "data": {
      "text/plain": [
       "(13096, 19)"
      ]
     },
     "execution_count": 21,
     "metadata": {},
     "output_type": "execute_result"
    }
   ],
   "source": [
    "latent_matrix_1_df.shape"
   ]
  },
  {
   "cell_type": "markdown",
   "metadata": {},
   "source": [
    "### "
   ]
  },
  {
   "attachments": {},
   "cell_type": "markdown",
   "metadata": {},
   "source": [
    "## B. collab filter"
   ]
  },
  {
   "cell_type": "markdown",
   "metadata": {},
   "source": [
    "#### data preparation"
   ]
  },
  {
   "cell_type": "code",
   "execution_count": 22,
   "metadata": {
    "execution": {
     "iopub.execute_input": "2022-11-20T08:53:24.029961Z",
     "iopub.status.busy": "2022-11-20T08:53:24.029516Z",
     "iopub.status.idle": "2022-11-20T08:53:24.035098Z",
     "shell.execute_reply": "2022-11-20T08:53:24.033882Z",
     "shell.execute_reply.started": "2022-11-20T08:53:24.029924Z"
    }
   },
   "outputs": [],
   "source": [
    "from scipy.sparse import csr_matrix"
   ]
  },
  {
   "cell_type": "code",
   "execution_count": 23,
   "metadata": {
    "execution": {
     "iopub.execute_input": "2022-11-20T08:53:26.257314Z",
     "iopub.status.busy": "2022-11-20T08:53:26.256874Z",
     "iopub.status.idle": "2022-11-20T08:53:27.363046Z",
     "shell.execute_reply": "2022-11-20T08:53:27.361976Z",
     "shell.execute_reply.started": "2022-11-20T08:53:26.257279Z"
    }
   },
   "outputs": [],
   "source": [
    "user_movie = newratings.pivot(index = 'movieId', columns = 'userId', values = 'rating').fillna(0)"
   ]
  },
  {
   "cell_type": "markdown",
   "metadata": {},
   "source": [
    "#### SVD"
   ]
  },
  {
   "cell_type": "code",
   "execution_count": 24,
   "metadata": {},
   "outputs": [
    {
     "data": {
      "text/plain": [
       "pandas.core.frame.DataFrame"
      ]
     },
     "execution_count": 24,
     "metadata": {},
     "output_type": "execute_result"
    }
   ],
   "source": [
    "type(merge_movieandtag)"
   ]
  },
  {
   "cell_type": "code",
   "execution_count": 25,
   "metadata": {
    "execution": {
     "iopub.execute_input": "2022-11-20T08:54:07.393861Z",
     "iopub.status.busy": "2022-11-20T08:54:07.393453Z",
     "iopub.status.idle": "2022-11-20T08:54:16.326680Z",
     "shell.execute_reply": "2022-11-20T08:54:16.325398Z",
     "shell.execute_reply.started": "2022-11-20T08:54:07.393827Z"
    }
   },
   "outputs": [],
   "source": [
    "from sklearn.decomposition import TruncatedSVD\n",
    "svd = TruncatedSVD(n_components=200)\n",
    "latent_matrix_2 = svd.fit_transform(user_movie)\n",
    "latent_matrix_2_df = pd.DataFrame(latent_matrix_2, index=merge_movieandtag.title.tolist())"
   ]
  },
  {
   "cell_type": "code",
   "execution_count": 26,
   "metadata": {
    "execution": {
     "iopub.execute_input": "2022-11-20T08:54:28.312543Z",
     "iopub.status.busy": "2022-11-20T08:54:28.312165Z",
     "iopub.status.idle": "2022-11-20T08:54:28.350228Z",
     "shell.execute_reply": "2022-11-20T08:54:28.349050Z",
     "shell.execute_reply.started": "2022-11-20T08:54:28.312509Z"
    }
   },
   "outputs": [
    {
     "data": {
      "text/html": [
       "<div>\n",
       "<style scoped>\n",
       "    .dataframe tbody tr th:only-of-type {\n",
       "        vertical-align: middle;\n",
       "    }\n",
       "\n",
       "    .dataframe tbody tr th {\n",
       "        vertical-align: top;\n",
       "    }\n",
       "\n",
       "    .dataframe thead th {\n",
       "        text-align: right;\n",
       "    }\n",
       "</style>\n",
       "<table border=\"1\" class=\"dataframe\">\n",
       "  <thead>\n",
       "    <tr style=\"text-align: right;\">\n",
       "      <th></th>\n",
       "      <th>0</th>\n",
       "      <th>1</th>\n",
       "      <th>2</th>\n",
       "      <th>3</th>\n",
       "      <th>4</th>\n",
       "      <th>5</th>\n",
       "      <th>6</th>\n",
       "      <th>7</th>\n",
       "      <th>8</th>\n",
       "      <th>9</th>\n",
       "      <th>...</th>\n",
       "      <th>190</th>\n",
       "      <th>191</th>\n",
       "      <th>192</th>\n",
       "      <th>193</th>\n",
       "      <th>194</th>\n",
       "      <th>195</th>\n",
       "      <th>196</th>\n",
       "      <th>197</th>\n",
       "      <th>198</th>\n",
       "      <th>199</th>\n",
       "    </tr>\n",
       "  </thead>\n",
       "  <tbody>\n",
       "    <tr>\n",
       "      <th>Toy Story (1995)</th>\n",
       "      <td>102.023528</td>\n",
       "      <td>19.708067</td>\n",
       "      <td>20.113067</td>\n",
       "      <td>8.232885</td>\n",
       "      <td>9.623745</td>\n",
       "      <td>31.986201</td>\n",
       "      <td>-5.478682</td>\n",
       "      <td>-4.108649</td>\n",
       "      <td>34.902524</td>\n",
       "      <td>0.076986</td>\n",
       "      <td>...</td>\n",
       "      <td>2.691027</td>\n",
       "      <td>-0.272209</td>\n",
       "      <td>-5.183791</td>\n",
       "      <td>0.126593</td>\n",
       "      <td>3.463096</td>\n",
       "      <td>-0.052137</td>\n",
       "      <td>0.053260</td>\n",
       "      <td>4.034022</td>\n",
       "      <td>4.484666</td>\n",
       "      <td>1.794141</td>\n",
       "    </tr>\n",
       "    <tr>\n",
       "      <th>Jumanji (1995)</th>\n",
       "      <td>47.161217</td>\n",
       "      <td>15.196263</td>\n",
       "      <td>20.994614</td>\n",
       "      <td>-10.435793</td>\n",
       "      <td>-7.035009</td>\n",
       "      <td>3.223028</td>\n",
       "      <td>-10.700278</td>\n",
       "      <td>8.392037</td>\n",
       "      <td>3.086887</td>\n",
       "      <td>0.230764</td>\n",
       "      <td>...</td>\n",
       "      <td>4.067185</td>\n",
       "      <td>2.848835</td>\n",
       "      <td>2.081262</td>\n",
       "      <td>-1.870380</td>\n",
       "      <td>0.999797</td>\n",
       "      <td>-0.029007</td>\n",
       "      <td>-0.786661</td>\n",
       "      <td>-1.769297</td>\n",
       "      <td>3.654931</td>\n",
       "      <td>-2.059279</td>\n",
       "    </tr>\n",
       "    <tr>\n",
       "      <th>Grumpier Old Men (1995)</th>\n",
       "      <td>20.930193</td>\n",
       "      <td>13.498355</td>\n",
       "      <td>5.883769</td>\n",
       "      <td>-10.187227</td>\n",
       "      <td>-5.623388</td>\n",
       "      <td>-0.794089</td>\n",
       "      <td>-0.658927</td>\n",
       "      <td>-8.821523</td>\n",
       "      <td>16.141845</td>\n",
       "      <td>-6.298103</td>\n",
       "      <td>...</td>\n",
       "      <td>-2.329885</td>\n",
       "      <td>-0.123628</td>\n",
       "      <td>-0.882818</td>\n",
       "      <td>0.524774</td>\n",
       "      <td>-4.143247</td>\n",
       "      <td>-1.973761</td>\n",
       "      <td>-0.056784</td>\n",
       "      <td>2.597199</td>\n",
       "      <td>-2.610792</td>\n",
       "      <td>3.221534</td>\n",
       "    </tr>\n",
       "    <tr>\n",
       "      <th>Waiting to Exhale (1995)</th>\n",
       "      <td>4.517838</td>\n",
       "      <td>5.606273</td>\n",
       "      <td>0.162506</td>\n",
       "      <td>-2.323248</td>\n",
       "      <td>-3.318866</td>\n",
       "      <td>-1.475562</td>\n",
       "      <td>2.012887</td>\n",
       "      <td>-0.375786</td>\n",
       "      <td>2.840841</td>\n",
       "      <td>0.020289</td>\n",
       "      <td>...</td>\n",
       "      <td>0.502412</td>\n",
       "      <td>-0.979458</td>\n",
       "      <td>-0.157258</td>\n",
       "      <td>0.074427</td>\n",
       "      <td>-1.493295</td>\n",
       "      <td>0.249033</td>\n",
       "      <td>-0.118099</td>\n",
       "      <td>1.524679</td>\n",
       "      <td>-0.812034</td>\n",
       "      <td>0.424601</td>\n",
       "    </tr>\n",
       "    <tr>\n",
       "      <th>Father of the Bride Part II (1995)</th>\n",
       "      <td>18.631418</td>\n",
       "      <td>16.881051</td>\n",
       "      <td>10.798545</td>\n",
       "      <td>-10.086931</td>\n",
       "      <td>-8.285681</td>\n",
       "      <td>0.835244</td>\n",
       "      <td>-1.324984</td>\n",
       "      <td>-7.375952</td>\n",
       "      <td>15.291895</td>\n",
       "      <td>-4.915104</td>\n",
       "      <td>...</td>\n",
       "      <td>2.236692</td>\n",
       "      <td>1.867511</td>\n",
       "      <td>1.676197</td>\n",
       "      <td>-0.737940</td>\n",
       "      <td>1.642211</td>\n",
       "      <td>-2.009367</td>\n",
       "      <td>-2.426425</td>\n",
       "      <td>0.761807</td>\n",
       "      <td>-2.685679</td>\n",
       "      <td>3.230472</td>\n",
       "    </tr>\n",
       "    <tr>\n",
       "      <th>...</th>\n",
       "      <td>...</td>\n",
       "      <td>...</td>\n",
       "      <td>...</td>\n",
       "      <td>...</td>\n",
       "      <td>...</td>\n",
       "      <td>...</td>\n",
       "      <td>...</td>\n",
       "      <td>...</td>\n",
       "      <td>...</td>\n",
       "      <td>...</td>\n",
       "      <td>...</td>\n",
       "      <td>...</td>\n",
       "      <td>...</td>\n",
       "      <td>...</td>\n",
       "      <td>...</td>\n",
       "      <td>...</td>\n",
       "      <td>...</td>\n",
       "      <td>...</td>\n",
       "      <td>...</td>\n",
       "      <td>...</td>\n",
       "      <td>...</td>\n",
       "    </tr>\n",
       "    <tr>\n",
       "      <th>The Lazarus Effect (2015)</th>\n",
       "      <td>0.001714</td>\n",
       "      <td>0.000283</td>\n",
       "      <td>0.001496</td>\n",
       "      <td>0.000339</td>\n",
       "      <td>0.004762</td>\n",
       "      <td>0.004100</td>\n",
       "      <td>-0.001751</td>\n",
       "      <td>0.000292</td>\n",
       "      <td>0.001246</td>\n",
       "      <td>-0.000717</td>\n",
       "      <td>...</td>\n",
       "      <td>-0.001337</td>\n",
       "      <td>-0.003250</td>\n",
       "      <td>-0.003077</td>\n",
       "      <td>0.001988</td>\n",
       "      <td>0.002521</td>\n",
       "      <td>-0.000421</td>\n",
       "      <td>0.001757</td>\n",
       "      <td>-0.001193</td>\n",
       "      <td>-0.002904</td>\n",
       "      <td>-0.000909</td>\n",
       "    </tr>\n",
       "    <tr>\n",
       "      <th>Clown (2014)</th>\n",
       "      <td>0.052921</td>\n",
       "      <td>-0.035301</td>\n",
       "      <td>-0.036490</td>\n",
       "      <td>0.037438</td>\n",
       "      <td>-0.057559</td>\n",
       "      <td>-0.081768</td>\n",
       "      <td>-0.049997</td>\n",
       "      <td>0.024276</td>\n",
       "      <td>0.013455</td>\n",
       "      <td>0.002974</td>\n",
       "      <td>...</td>\n",
       "      <td>0.026328</td>\n",
       "      <td>0.046706</td>\n",
       "      <td>-0.034342</td>\n",
       "      <td>-0.041789</td>\n",
       "      <td>0.027781</td>\n",
       "      <td>-0.034234</td>\n",
       "      <td>0.042741</td>\n",
       "      <td>-0.018513</td>\n",
       "      <td>0.025702</td>\n",
       "      <td>0.032924</td>\n",
       "    </tr>\n",
       "    <tr>\n",
       "      <th>The Dark Knight (2011)</th>\n",
       "      <td>0.146252</td>\n",
       "      <td>-0.133183</td>\n",
       "      <td>0.250074</td>\n",
       "      <td>-0.055904</td>\n",
       "      <td>-0.075810</td>\n",
       "      <td>-0.000770</td>\n",
       "      <td>-0.179912</td>\n",
       "      <td>-0.326801</td>\n",
       "      <td>-0.055826</td>\n",
       "      <td>-0.001186</td>\n",
       "      <td>...</td>\n",
       "      <td>0.267507</td>\n",
       "      <td>-0.067479</td>\n",
       "      <td>0.067626</td>\n",
       "      <td>0.052419</td>\n",
       "      <td>-0.157802</td>\n",
       "      <td>-0.155677</td>\n",
       "      <td>-0.234110</td>\n",
       "      <td>-0.258854</td>\n",
       "      <td>0.032385</td>\n",
       "      <td>-0.041800</td>\n",
       "    </tr>\n",
       "    <tr>\n",
       "      <th>Insurgent (2015)</th>\n",
       "      <td>0.188042</td>\n",
       "      <td>-0.139737</td>\n",
       "      <td>0.019075</td>\n",
       "      <td>-0.146404</td>\n",
       "      <td>-0.325309</td>\n",
       "      <td>0.066844</td>\n",
       "      <td>-0.028073</td>\n",
       "      <td>0.002099</td>\n",
       "      <td>0.217361</td>\n",
       "      <td>0.080414</td>\n",
       "      <td>...</td>\n",
       "      <td>-0.229657</td>\n",
       "      <td>-0.055488</td>\n",
       "      <td>0.273178</td>\n",
       "      <td>0.318717</td>\n",
       "      <td>-0.070865</td>\n",
       "      <td>-0.061786</td>\n",
       "      <td>0.135193</td>\n",
       "      <td>-0.071760</td>\n",
       "      <td>-0.112097</td>\n",
       "      <td>-0.008827</td>\n",
       "    </tr>\n",
       "    <tr>\n",
       "      <th>Backcountry (2014)</th>\n",
       "      <td>0.158763</td>\n",
       "      <td>-0.105903</td>\n",
       "      <td>-0.109471</td>\n",
       "      <td>0.112313</td>\n",
       "      <td>-0.172678</td>\n",
       "      <td>-0.245305</td>\n",
       "      <td>-0.149991</td>\n",
       "      <td>0.072828</td>\n",
       "      <td>0.040365</td>\n",
       "      <td>0.008923</td>\n",
       "      <td>...</td>\n",
       "      <td>0.078983</td>\n",
       "      <td>0.140118</td>\n",
       "      <td>-0.103027</td>\n",
       "      <td>-0.125368</td>\n",
       "      <td>0.083342</td>\n",
       "      <td>-0.102703</td>\n",
       "      <td>0.128223</td>\n",
       "      <td>-0.055538</td>\n",
       "      <td>0.077107</td>\n",
       "      <td>0.098771</td>\n",
       "    </tr>\n",
       "  </tbody>\n",
       "</table>\n",
       "<p>13096 rows × 200 columns</p>\n",
       "</div>"
      ],
      "text/plain": [
       "                                           0          1          2    \\\n",
       "Toy Story (1995)                    102.023528  19.708067  20.113067   \n",
       "Jumanji (1995)                       47.161217  15.196263  20.994614   \n",
       "Grumpier Old Men (1995)              20.930193  13.498355   5.883769   \n",
       "Waiting to Exhale (1995)              4.517838   5.606273   0.162506   \n",
       "Father of the Bride Part II (1995)   18.631418  16.881051  10.798545   \n",
       "...                                        ...        ...        ...   \n",
       "The Lazarus Effect (2015)             0.001714   0.000283   0.001496   \n",
       "Clown (2014)                          0.052921  -0.035301  -0.036490   \n",
       "The Dark Knight (2011)                0.146252  -0.133183   0.250074   \n",
       "Insurgent (2015)                      0.188042  -0.139737   0.019075   \n",
       "Backcountry (2014)                    0.158763  -0.105903  -0.109471   \n",
       "\n",
       "                                          3         4          5          6    \\\n",
       "Toy Story (1995)                     8.232885  9.623745  31.986201  -5.478682   \n",
       "Jumanji (1995)                     -10.435793 -7.035009   3.223028 -10.700278   \n",
       "Grumpier Old Men (1995)            -10.187227 -5.623388  -0.794089  -0.658927   \n",
       "Waiting to Exhale (1995)            -2.323248 -3.318866  -1.475562   2.012887   \n",
       "Father of the Bride Part II (1995) -10.086931 -8.285681   0.835244  -1.324984   \n",
       "...                                       ...       ...        ...        ...   \n",
       "The Lazarus Effect (2015)            0.000339  0.004762   0.004100  -0.001751   \n",
       "Clown (2014)                         0.037438 -0.057559  -0.081768  -0.049997   \n",
       "The Dark Knight (2011)              -0.055904 -0.075810  -0.000770  -0.179912   \n",
       "Insurgent (2015)                    -0.146404 -0.325309   0.066844  -0.028073   \n",
       "Backcountry (2014)                   0.112313 -0.172678  -0.245305  -0.149991   \n",
       "\n",
       "                                         7          8         9    ...  \\\n",
       "Toy Story (1995)                   -4.108649  34.902524  0.076986  ...   \n",
       "Jumanji (1995)                      8.392037   3.086887  0.230764  ...   \n",
       "Grumpier Old Men (1995)            -8.821523  16.141845 -6.298103  ...   \n",
       "Waiting to Exhale (1995)           -0.375786   2.840841  0.020289  ...   \n",
       "Father of the Bride Part II (1995) -7.375952  15.291895 -4.915104  ...   \n",
       "...                                      ...        ...       ...  ...   \n",
       "The Lazarus Effect (2015)           0.000292   0.001246 -0.000717  ...   \n",
       "Clown (2014)                        0.024276   0.013455  0.002974  ...   \n",
       "The Dark Knight (2011)             -0.326801  -0.055826 -0.001186  ...   \n",
       "Insurgent (2015)                    0.002099   0.217361  0.080414  ...   \n",
       "Backcountry (2014)                  0.072828   0.040365  0.008923  ...   \n",
       "\n",
       "                                         190       191       192       193  \\\n",
       "Toy Story (1995)                    2.691027 -0.272209 -5.183791  0.126593   \n",
       "Jumanji (1995)                      4.067185  2.848835  2.081262 -1.870380   \n",
       "Grumpier Old Men (1995)            -2.329885 -0.123628 -0.882818  0.524774   \n",
       "Waiting to Exhale (1995)            0.502412 -0.979458 -0.157258  0.074427   \n",
       "Father of the Bride Part II (1995)  2.236692  1.867511  1.676197 -0.737940   \n",
       "...                                      ...       ...       ...       ...   \n",
       "The Lazarus Effect (2015)          -0.001337 -0.003250 -0.003077  0.001988   \n",
       "Clown (2014)                        0.026328  0.046706 -0.034342 -0.041789   \n",
       "The Dark Knight (2011)              0.267507 -0.067479  0.067626  0.052419   \n",
       "Insurgent (2015)                   -0.229657 -0.055488  0.273178  0.318717   \n",
       "Backcountry (2014)                  0.078983  0.140118 -0.103027 -0.125368   \n",
       "\n",
       "                                         194       195       196       197  \\\n",
       "Toy Story (1995)                    3.463096 -0.052137  0.053260  4.034022   \n",
       "Jumanji (1995)                      0.999797 -0.029007 -0.786661 -1.769297   \n",
       "Grumpier Old Men (1995)            -4.143247 -1.973761 -0.056784  2.597199   \n",
       "Waiting to Exhale (1995)           -1.493295  0.249033 -0.118099  1.524679   \n",
       "Father of the Bride Part II (1995)  1.642211 -2.009367 -2.426425  0.761807   \n",
       "...                                      ...       ...       ...       ...   \n",
       "The Lazarus Effect (2015)           0.002521 -0.000421  0.001757 -0.001193   \n",
       "Clown (2014)                        0.027781 -0.034234  0.042741 -0.018513   \n",
       "The Dark Knight (2011)             -0.157802 -0.155677 -0.234110 -0.258854   \n",
       "Insurgent (2015)                   -0.070865 -0.061786  0.135193 -0.071760   \n",
       "Backcountry (2014)                  0.083342 -0.102703  0.128223 -0.055538   \n",
       "\n",
       "                                         198       199  \n",
       "Toy Story (1995)                    4.484666  1.794141  \n",
       "Jumanji (1995)                      3.654931 -2.059279  \n",
       "Grumpier Old Men (1995)            -2.610792  3.221534  \n",
       "Waiting to Exhale (1995)           -0.812034  0.424601  \n",
       "Father of the Bride Part II (1995) -2.685679  3.230472  \n",
       "...                                      ...       ...  \n",
       "The Lazarus Effect (2015)          -0.002904 -0.000909  \n",
       "Clown (2014)                        0.025702  0.032924  \n",
       "The Dark Knight (2011)              0.032385 -0.041800  \n",
       "Insurgent (2015)                   -0.112097 -0.008827  \n",
       "Backcountry (2014)                  0.077107  0.098771  \n",
       "\n",
       "[13096 rows x 200 columns]"
      ]
     },
     "execution_count": 26,
     "metadata": {},
     "output_type": "execute_result"
    }
   ],
   "source": [
    "latent_matrix_2_df"
   ]
  },
  {
   "cell_type": "markdown",
   "metadata": {},
   "source": [
    "#### Plot variance expalined to see what latent dimensions to use"
   ]
  },
  {
   "cell_type": "code",
   "execution_count": 27,
   "metadata": {
    "execution": {
     "iopub.execute_input": "2022-11-20T08:54:38.906557Z",
     "iopub.status.busy": "2022-11-20T08:54:38.906180Z",
     "iopub.status.idle": "2022-11-20T08:54:39.110611Z",
     "shell.execute_reply": "2022-11-20T08:54:39.109612Z",
     "shell.execute_reply.started": "2022-11-20T08:54:38.906527Z"
    }
   },
   "outputs": [
    {
     "data": {
      "image/png": "[encoded data removed]",
      "text/plain": [
       "<Figure size 640x480 with 1 Axes>"
      ]
     },
     "metadata": {},
     "output_type": "display_data"
    }
   ],
   "source": [
    "explained = svd.explained_variance_ratio_.cumsum()\n",
    "plt.plot(explained, '.-', ms = 16, color='red')\n",
    "plt.xlabel('Singular value components', fontsize= 12)\n",
    "plt.ylabel('Cumulative percent of variance', fontsize=12)        \n",
    "plt.show()"
   ]
  },
  {
   "cell_type": "markdown",
   "metadata": {},
   "source": [
    "#### Cosine Similarity"
   ]
  },
  {
   "cell_type": "code",
   "execution_count": 28,
   "metadata": {
    "execution": {
     "iopub.execute_input": "2022-11-20T08:54:54.714787Z",
     "iopub.status.busy": "2022-11-20T08:54:54.714376Z",
     "iopub.status.idle": "2022-11-20T08:54:54.719827Z",
     "shell.execute_reply": "2022-11-20T08:54:54.718702Z",
     "shell.execute_reply.started": "2022-11-20T08:54:54.714754Z"
    }
   },
   "outputs": [],
   "source": [
    "import numpy as np"
   ]
  },
  {
   "cell_type": "code",
   "execution_count": 29,
   "metadata": {
    "execution": {
     "iopub.execute_input": "2022-11-20T08:54:56.280076Z",
     "iopub.status.busy": "2022-11-20T08:54:56.279378Z",
     "iopub.status.idle": "2022-11-20T08:54:56.344165Z",
     "shell.execute_reply": "2022-11-20T08:54:56.342916Z",
     "shell.execute_reply.started": "2022-11-20T08:54:56.280034Z"
    }
   },
   "outputs": [
    {
     "data": {
      "text/html": [
       "<div>\n",
       "<style scoped>\n",
       "    .dataframe tbody tr th:only-of-type {\n",
       "        vertical-align: middle;\n",
       "    }\n",
       "\n",
       "    .dataframe tbody tr th {\n",
       "        vertical-align: top;\n",
       "    }\n",
       "\n",
       "    .dataframe thead th {\n",
       "        text-align: right;\n",
       "    }\n",
       "</style>\n",
       "<table border=\"1\" class=\"dataframe\">\n",
       "  <thead>\n",
       "    <tr style=\"text-align: right;\">\n",
       "      <th></th>\n",
       "      <th>content</th>\n",
       "      <th>collaborative</th>\n",
       "      <th>hybrid</th>\n",
       "    </tr>\n",
       "  </thead>\n",
       "  <tbody>\n",
       "    <tr>\n",
       "      <th>Toy Story 2 (1999)</th>\n",
       "      <td>0.993310</td>\n",
       "      <td>0.667980</td>\n",
       "      <td>0.830645</td>\n",
       "    </tr>\n",
       "    <tr>\n",
       "      <th>Bug's Life, A (1998)</th>\n",
       "      <td>0.978288</td>\n",
       "      <td>0.573022</td>\n",
       "      <td>0.775655</td>\n",
       "    </tr>\n",
       "    <tr>\n",
       "      <th>Incredibles, The (2004)</th>\n",
       "      <td>0.967860</td>\n",
       "      <td>0.488040</td>\n",
       "      <td>0.727950</td>\n",
       "    </tr>\n",
       "    <tr>\n",
       "      <th>Monsters, Inc. (2001)</th>\n",
       "      <td>0.956841</td>\n",
       "      <td>0.541043</td>\n",
       "      <td>0.748942</td>\n",
       "    </tr>\n",
       "    <tr>\n",
       "      <th>Antz (1998)</th>\n",
       "      <td>0.954934</td>\n",
       "      <td>0.454316</td>\n",
       "      <td>0.704625</td>\n",
       "    </tr>\n",
       "    <tr>\n",
       "      <th>Tale of Despereaux, The (2008)</th>\n",
       "      <td>0.954464</td>\n",
       "      <td>0.102259</td>\n",
       "      <td>0.528362</td>\n",
       "    </tr>\n",
       "    <tr>\n",
       "      <th>Ponyo (Gake no ue no Ponyo) (2008)</th>\n",
       "      <td>0.951564</td>\n",
       "      <td>0.157738</td>\n",
       "      <td>0.554651</td>\n",
       "    </tr>\n",
       "    <tr>\n",
       "      <th>Azur &amp; Asmar (Azur et Asmar) (2006)</th>\n",
       "      <td>0.951247</td>\n",
       "      <td>0.074201</td>\n",
       "      <td>0.512724</td>\n",
       "    </tr>\n",
       "    <tr>\n",
       "      <th>Cloudy with a Chance of Meatballs 2 (2013)</th>\n",
       "      <td>0.946231</td>\n",
       "      <td>0.111734</td>\n",
       "      <td>0.528982</td>\n",
       "    </tr>\n",
       "    <tr>\n",
       "      <th>Wreck-It Ralph (2012)</th>\n",
       "      <td>0.940529</td>\n",
       "      <td>0.199122</td>\n",
       "      <td>0.569826</td>\n",
       "    </tr>\n",
       "    <tr>\n",
       "      <th>Finding Nemo (2003)</th>\n",
       "      <td>0.935001</td>\n",
       "      <td>0.524405</td>\n",
       "      <td>0.729703</td>\n",
       "    </tr>\n",
       "  </tbody>\n",
       "</table>\n",
       "</div>"
      ],
      "text/plain": [
       "                                             content  collaborative    hybrid\n",
       "Toy Story 2 (1999)                          0.993310       0.667980  0.830645\n",
       "Bug's Life, A (1998)                        0.978288       0.573022  0.775655\n",
       "Incredibles, The (2004)                     0.967860       0.488040  0.727950\n",
       "Monsters, Inc. (2001)                       0.956841       0.541043  0.748942\n",
       "Antz (1998)                                 0.954934       0.454316  0.704625\n",
       "Tale of Despereaux, The (2008)              0.954464       0.102259  0.528362\n",
       "Ponyo (Gake no ue no Ponyo) (2008)          0.951564       0.157738  0.554651\n",
       "Azur & Asmar (Azur et Asmar) (2006)         0.951247       0.074201  0.512724\n",
       "Cloudy with a Chance of Meatballs 2 (2013)  0.946231       0.111734  0.528982\n",
       "Wreck-It Ralph (2012)                       0.940529       0.199122  0.569826\n",
       "Finding Nemo (2003)                         0.935001       0.524405  0.729703"
      ]
     },
     "execution_count": 29,
     "metadata": {},
     "output_type": "execute_result"
    }
   ],
   "source": [
    "from sklearn.metrics.pairwise import cosine_similarity\n",
    "# take the latent vectors for a selected movie from both content \n",
    "# and collaborative matrixes\n",
    "a_1 = np.array(latent_matrix_1_df.loc['Toy Story (1995)']).reshape(1, -1)\n",
    "a_2 = np.array(latent_matrix_2_df.loc[\"Toy Story (1995)\"]).reshape(1, -1)\n",
    "\n",
    "# calculate the similartity of this movie with the others in the list\n",
    "score_1 = cosine_similarity(latent_matrix_1_df, a_1).reshape(-1)\n",
    "score_2 = cosine_similarity(latent_matrix_2_df, a_2).reshape(-1)\n",
    "\n",
    "# an average measure of both content and collaborative \n",
    "hybrid = ((score_1 + score_2)/2.0)\n",
    "\n",
    "# form a data frame of similar movies \n",
    "dictDf = {'content': score_1 , 'collaborative': score_2, 'hybrid': hybrid} \n",
    "# dictDf = {'collaborative': score_2} \n",
    "similar = pd.DataFrame(dictDf, index = latent_matrix_2_df.index )\n",
    "\n",
    "#sort it on the basis of either: content, collaborative or hybrid, \n",
    "# here : content\n",
    "similar.sort_values('content', ascending=False, inplace=True)\n",
    "\n",
    "similar[1:].head(11)"
   ]
  },
  {
   "attachments": {},
   "cell_type": "markdown",
   "metadata": {},
   "source": [
    "#### Try Collaborative"
   ]
  },
  {
   "cell_type": "code",
   "execution_count": 30,
   "metadata": {
    "execution": {
     "iopub.execute_input": "2022-11-20T08:55:00.661740Z",
     "iopub.status.busy": "2022-11-20T08:55:00.661149Z",
     "iopub.status.idle": "2022-11-20T08:55:00.692014Z",
     "shell.execute_reply": "2022-11-20T08:55:00.689579Z",
     "shell.execute_reply.started": "2022-11-20T08:55:00.661705Z"
    }
   },
   "outputs": [
    {
     "data": {
      "text/html": [
       "<div>\n",
       "<style scoped>\n",
       "    .dataframe tbody tr th:only-of-type {\n",
       "        vertical-align: middle;\n",
       "    }\n",
       "\n",
       "    .dataframe tbody tr th {\n",
       "        vertical-align: top;\n",
       "    }\n",
       "\n",
       "    .dataframe thead th {\n",
       "        text-align: right;\n",
       "    }\n",
       "</style>\n",
       "<table border=\"1\" class=\"dataframe\">\n",
       "  <thead>\n",
       "    <tr style=\"text-align: right;\">\n",
       "      <th></th>\n",
       "      <th>content</th>\n",
       "      <th>collaborative</th>\n",
       "      <th>hybrid</th>\n",
       "    </tr>\n",
       "  </thead>\n",
       "  <tbody>\n",
       "    <tr>\n",
       "      <th>Toy Story 2 (1999)</th>\n",
       "      <td>0.993310</td>\n",
       "      <td>0.667980</td>\n",
       "      <td>0.830645</td>\n",
       "    </tr>\n",
       "    <tr>\n",
       "      <th>Independence Day (a.k.a. ID4) (1996)</th>\n",
       "      <td>0.049017</td>\n",
       "      <td>0.617066</td>\n",
       "      <td>0.333041</td>\n",
       "    </tr>\n",
       "    <tr>\n",
       "      <th>Star Wars: Episode IV - A New Hope (1977)</th>\n",
       "      <td>0.162880</td>\n",
       "      <td>0.614186</td>\n",
       "      <td>0.388533</td>\n",
       "    </tr>\n",
       "    <tr>\n",
       "      <th>Mission: Impossible (1996)</th>\n",
       "      <td>0.120939</td>\n",
       "      <td>0.609553</td>\n",
       "      <td>0.365246</td>\n",
       "    </tr>\n",
       "    <tr>\n",
       "      <th>Star Wars: Episode VI - Return of the Jedi (1983)</th>\n",
       "      <td>0.115389</td>\n",
       "      <td>0.601382</td>\n",
       "      <td>0.358385</td>\n",
       "    </tr>\n",
       "    <tr>\n",
       "      <th>Willy Wonka &amp; the Chocolate Factory (1971)</th>\n",
       "      <td>0.224811</td>\n",
       "      <td>0.599154</td>\n",
       "      <td>0.411983</td>\n",
       "    </tr>\n",
       "    <tr>\n",
       "      <th>Back to the Future (1985)</th>\n",
       "      <td>0.146167</td>\n",
       "      <td>0.590408</td>\n",
       "      <td>0.368288</td>\n",
       "    </tr>\n",
       "    <tr>\n",
       "      <th>Aladdin (1992)</th>\n",
       "      <td>0.883969</td>\n",
       "      <td>0.589971</td>\n",
       "      <td>0.736970</td>\n",
       "    </tr>\n",
       "    <tr>\n",
       "      <th>Lion King, The (1994)</th>\n",
       "      <td>0.740379</td>\n",
       "      <td>0.581976</td>\n",
       "      <td>0.661178</td>\n",
       "    </tr>\n",
       "    <tr>\n",
       "      <th>Bug's Life, A (1998)</th>\n",
       "      <td>0.978288</td>\n",
       "      <td>0.573022</td>\n",
       "      <td>0.775655</td>\n",
       "    </tr>\n",
       "    <tr>\n",
       "      <th>Jurassic Park (1993)</th>\n",
       "      <td>0.049102</td>\n",
       "      <td>0.570227</td>\n",
       "      <td>0.309664</td>\n",
       "    </tr>\n",
       "  </tbody>\n",
       "</table>\n",
       "</div>"
      ],
      "text/plain": [
       "                                                    content  collaborative  \\\n",
       "Toy Story 2 (1999)                                 0.993310       0.667980   \n",
       "Independence Day (a.k.a. ID4) (1996)               0.049017       0.617066   \n",
       "Star Wars: Episode IV - A New Hope (1977)          0.162880       0.614186   \n",
       "Mission: Impossible (1996)                         0.120939       0.609553   \n",
       "Star Wars: Episode VI - Return of the Jedi (1983)  0.115389       0.601382   \n",
       "Willy Wonka & the Chocolate Factory (1971)         0.224811       0.599154   \n",
       "Back to the Future (1985)                          0.146167       0.590408   \n",
       "Aladdin (1992)                                     0.883969       0.589971   \n",
       "Lion King, The (1994)                              0.740379       0.581976   \n",
       "Bug's Life, A (1998)                               0.978288       0.573022   \n",
       "Jurassic Park (1993)                               0.049102       0.570227   \n",
       "\n",
       "                                                     hybrid  \n",
       "Toy Story 2 (1999)                                 0.830645  \n",
       "Independence Day (a.k.a. ID4) (1996)               0.333041  \n",
       "Star Wars: Episode IV - A New Hope (1977)          0.388533  \n",
       "Mission: Impossible (1996)                         0.365246  \n",
       "Star Wars: Episode VI - Return of the Jedi (1983)  0.358385  \n",
       "Willy Wonka & the Chocolate Factory (1971)         0.411983  \n",
       "Back to the Future (1985)                          0.368288  \n",
       "Aladdin (1992)                                     0.736970  \n",
       "Lion King, The (1994)                              0.661178  \n",
       "Bug's Life, A (1998)                               0.775655  \n",
       "Jurassic Park (1993)                               0.309664  "
      ]
     },
     "execution_count": 30,
     "metadata": {},
     "output_type": "execute_result"
    }
   ],
   "source": [
    "similar.sort_values('collaborative', ascending=False, inplace=True)\n",
    "\n",
    "similar[1:].head(11)"
   ]
  },
  {
   "cell_type": "markdown",
   "metadata": {},
   "source": [
    "#### Hybrid"
   ]
  },
  {
   "cell_type": "code",
   "execution_count": 31,
   "metadata": {
    "execution": {
     "iopub.execute_input": "2022-11-20T08:55:05.875118Z",
     "iopub.status.busy": "2022-11-20T08:55:05.874588Z",
     "iopub.status.idle": "2022-11-20T08:55:05.892655Z",
     "shell.execute_reply": "2022-11-20T08:55:05.891362Z",
     "shell.execute_reply.started": "2022-11-20T08:55:05.875081Z"
    }
   },
   "outputs": [
    {
     "data": {
      "text/html": [
       "<div>\n",
       "<style scoped>\n",
       "    .dataframe tbody tr th:only-of-type {\n",
       "        vertical-align: middle;\n",
       "    }\n",
       "\n",
       "    .dataframe tbody tr th {\n",
       "        vertical-align: top;\n",
       "    }\n",
       "\n",
       "    .dataframe thead th {\n",
       "        text-align: right;\n",
       "    }\n",
       "</style>\n",
       "<table border=\"1\" class=\"dataframe\">\n",
       "  <thead>\n",
       "    <tr style=\"text-align: right;\">\n",
       "      <th></th>\n",
       "      <th>content</th>\n",
       "      <th>collaborative</th>\n",
       "      <th>hybrid</th>\n",
       "    </tr>\n",
       "  </thead>\n",
       "  <tbody>\n",
       "    <tr>\n",
       "      <th>Toy Story 2 (1999)</th>\n",
       "      <td>0.993310</td>\n",
       "      <td>0.667980</td>\n",
       "      <td>0.830645</td>\n",
       "    </tr>\n",
       "    <tr>\n",
       "      <th>Bug's Life, A (1998)</th>\n",
       "      <td>0.978288</td>\n",
       "      <td>0.573022</td>\n",
       "      <td>0.775655</td>\n",
       "    </tr>\n",
       "    <tr>\n",
       "      <th>Monsters, Inc. (2001)</th>\n",
       "      <td>0.956841</td>\n",
       "      <td>0.541043</td>\n",
       "      <td>0.748942</td>\n",
       "    </tr>\n",
       "    <tr>\n",
       "      <th>Aladdin (1992)</th>\n",
       "      <td>0.883969</td>\n",
       "      <td>0.589971</td>\n",
       "      <td>0.736970</td>\n",
       "    </tr>\n",
       "    <tr>\n",
       "      <th>Finding Nemo (2003)</th>\n",
       "      <td>0.935001</td>\n",
       "      <td>0.524405</td>\n",
       "      <td>0.729703</td>\n",
       "    </tr>\n",
       "    <tr>\n",
       "      <th>Incredibles, The (2004)</th>\n",
       "      <td>0.967860</td>\n",
       "      <td>0.488040</td>\n",
       "      <td>0.727950</td>\n",
       "    </tr>\n",
       "    <tr>\n",
       "      <th>Shrek (2001)</th>\n",
       "      <td>0.904711</td>\n",
       "      <td>0.536740</td>\n",
       "      <td>0.720726</td>\n",
       "    </tr>\n",
       "    <tr>\n",
       "      <th>Antz (1998)</th>\n",
       "      <td>0.954934</td>\n",
       "      <td>0.454316</td>\n",
       "      <td>0.704625</td>\n",
       "    </tr>\n",
       "    <tr>\n",
       "      <th>Who Framed Roger Rabbit? (1988)</th>\n",
       "      <td>0.908935</td>\n",
       "      <td>0.472690</td>\n",
       "      <td>0.690813</td>\n",
       "    </tr>\n",
       "    <tr>\n",
       "      <th>Shrek 2 (2004)</th>\n",
       "      <td>0.920345</td>\n",
       "      <td>0.442187</td>\n",
       "      <td>0.681266</td>\n",
       "    </tr>\n",
       "    <tr>\n",
       "      <th>Space Jam (1996)</th>\n",
       "      <td>0.844230</td>\n",
       "      <td>0.490624</td>\n",
       "      <td>0.667427</td>\n",
       "    </tr>\n",
       "  </tbody>\n",
       "</table>\n",
       "</div>"
      ],
      "text/plain": [
       "                                  content  collaborative    hybrid\n",
       "Toy Story 2 (1999)               0.993310       0.667980  0.830645\n",
       "Bug's Life, A (1998)             0.978288       0.573022  0.775655\n",
       "Monsters, Inc. (2001)            0.956841       0.541043  0.748942\n",
       "Aladdin (1992)                   0.883969       0.589971  0.736970\n",
       "Finding Nemo (2003)              0.935001       0.524405  0.729703\n",
       "Incredibles, The (2004)          0.967860       0.488040  0.727950\n",
       "Shrek (2001)                     0.904711       0.536740  0.720726\n",
       "Antz (1998)                      0.954934       0.454316  0.704625\n",
       "Who Framed Roger Rabbit? (1988)  0.908935       0.472690  0.690813\n",
       "Shrek 2 (2004)                   0.920345       0.442187  0.681266\n",
       "Space Jam (1996)                 0.844230       0.490624  0.667427"
      ]
     },
     "execution_count": 31,
     "metadata": {},
     "output_type": "execute_result"
    }
   ],
   "source": [
    "similar.sort_values('hybrid', ascending=False, inplace=True)\n",
    "\n",
    "similar[1:].head(11)"
   ]
  },
  {
   "cell_type": "markdown",
   "metadata": {},
   "source": [
    "## Hybrid Recommendation System"
   ]
  },
  {
   "cell_type": "code",
   "execution_count": 32,
   "metadata": {
    "execution": {
     "iopub.execute_input": "2022-11-20T08:55:12.715819Z",
     "iopub.status.busy": "2022-11-20T08:55:12.715387Z",
     "iopub.status.idle": "2022-11-20T08:55:12.723403Z",
     "shell.execute_reply": "2022-11-20T08:55:12.722366Z",
     "shell.execute_reply.started": "2022-11-20T08:55:12.715782Z"
    }
   },
   "outputs": [],
   "source": [
    "def recommend_similar_movies(title):\n",
    "    # take the latent vectors for a selected movie from both content \n",
    "    # and collaborative matrixes\n",
    "    a_1 = np.array(latent_matrix_1_df.loc[title]).reshape(1, -1)\n",
    "    a_2 = np.array(latent_matrix_2_df.loc[title]).reshape(1, -1)\n",
    "\n",
    "    # calculate the similartity of this movie with the others in the list\n",
    "    score_1 = cosine_similarity(latent_matrix_1_df, a_1).reshape(-1)\n",
    "    score_2 = cosine_similarity(latent_matrix_2_df, a_2).reshape(-1)\n",
    "\n",
    "    # an average measure of both content and collaborative \n",
    "    hybrid = ((score_1 + score_2)/2.0)\n",
    "\n",
    "    # form a data frame of similar movies \n",
    "    dictDf = {'content': score_1 , 'collaborative': score_2, 'hybrid': hybrid} \n",
    "    similar = pd.DataFrame(dictDf, index = latent_matrix_2_df.index )\n",
    "\n",
    "    #sort it on the basis of either: content, collaborative or hybrid\n",
    "    similar.sort_values('hybrid', ascending=False, inplace=True)\n",
    "\n",
    "    print(similar[1:].head(11))"
   ]
  },
  {
   "cell_type": "code",
   "execution_count": 33,
   "metadata": {
    "execution": {
     "iopub.execute_input": "2022-11-20T08:55:19.771164Z",
     "iopub.status.busy": "2022-11-20T08:55:19.770783Z",
     "iopub.status.idle": "2022-11-20T08:55:19.818199Z",
     "shell.execute_reply": "2022-11-20T08:55:19.817070Z",
     "shell.execute_reply.started": "2022-11-20T08:55:19.771132Z"
    }
   },
   "outputs": [
    {
     "name": "stdout",
     "output_type": "stream",
     "text": [
      "                                  content  collaborative    hybrid\n",
      "Toy Story 2 (1999)               0.993310       0.667980  0.830645\n",
      "Bug's Life, A (1998)             0.978288       0.573022  0.775655\n",
      "Monsters, Inc. (2001)            0.956841       0.541043  0.748942\n",
      "Aladdin (1992)                   0.883969       0.589971  0.736970\n",
      "Finding Nemo (2003)              0.935001       0.524405  0.729703\n",
      "Incredibles, The (2004)          0.967860       0.488040  0.727950\n",
      "Shrek (2001)                     0.904711       0.536740  0.720726\n",
      "Antz (1998)                      0.954934       0.454316  0.704625\n",
      "Who Framed Roger Rabbit? (1988)  0.908935       0.472690  0.690813\n",
      "Shrek 2 (2004)                   0.920345       0.442187  0.681266\n",
      "Space Jam (1996)                 0.844230       0.490624  0.667427\n"
     ]
    }
   ],
   "source": [
    "recommend_similar_movies(\"Toy Story (1995)\")"
   ]
  },
  {
   "cell_type": "markdown",
   "metadata": {},
   "source": [
    "## matrix factorization"
   ]
  },
  {
   "cell_type": "code",
   "execution_count": 34,
   "metadata": {
    "execution": {
     "iopub.execute_input": "2022-11-20T08:55:27.034294Z",
     "iopub.status.busy": "2022-11-20T08:55:27.033136Z",
     "iopub.status.idle": "2022-11-20T08:55:27.051520Z",
     "shell.execute_reply": "2022-11-20T08:55:27.050582Z",
     "shell.execute_reply.started": "2022-11-20T08:55:27.034255Z"
    }
   },
   "outputs": [],
   "source": [
    "class MF():\n",
    "\n",
    "    # Initializing the user-movie rating matrix, no. of latent features, alpha and beta.\n",
    "    def __init__(self, R, K, alpha, beta, iterations):\n",
    "        self.R = R\n",
    "        self.num_users, self.num_items = R.shape\n",
    "        self.K = K\n",
    "        self.alpha = alpha\n",
    "        self.beta = beta\n",
    "        self.iterations = iterations\n",
    "\n",
    "    # Initializing user-feature and movie-feature matrix \n",
    "    def train(self):\n",
    "        self.P = np.random.normal(scale=1./self.K, size=(self.num_users, self.K))\n",
    "        self.Q = np.random.normal(scale=1./self.K, size=(self.num_items, self.K))\n",
    "\n",
    "        # Initializing the bias terms\n",
    "        self.b_u = np.zeros(self.num_users)\n",
    "        self.b_i = np.zeros(self.num_items)\n",
    "        self.b = np.mean(self.R[np.where(self.R != 0)])\n",
    "\n",
    "        # List of training samples\n",
    "        self.samples = [\n",
    "        (i, j, self.R[i, j])\n",
    "        for i in range(self.num_users)\n",
    "        for j in range(self.num_items)\n",
    "        if self.R[i, j] > 0\n",
    "        ]\n",
    "\n",
    "        # Stochastic gradient descent for given number of iterations\n",
    "        training_process = []\n",
    "        for i in range(self.iterations):\n",
    "            np.random.shuffle(self.samples)\n",
    "            self.sgd()\n",
    "            mse = self.mse()\n",
    "            training_process.append((i, mse))\n",
    "            if (i+1) % 20 == 0:\n",
    "                print(\"Iteration: %d ; error = %.4f\" % (i+1, mse))\n",
    "\n",
    "        return training_process\n",
    "\n",
    "    # Computing total mean squared error\n",
    "    def mse(self):\n",
    "        xs, ys = self.R.nonzero()\n",
    "        predicted = self.full_matrix()\n",
    "        error = 0\n",
    "        for x, y in zip(xs, ys):\n",
    "            error += pow(self.R[x, y] - predicted[x, y], 2)\n",
    "        return np.sqrt(error)\n",
    "\n",
    "    # Stochastic gradient descent to get optimized P and Q matrix\n",
    "    def sgd(self):\n",
    "        for i, j, r in self.samples:\n",
    "            prediction = self.get_rating(i, j)\n",
    "            e = (r - prediction)\n",
    "\n",
    "            self.b_u[i] += self.alpha * (e - self.beta * self.b_u[i])\n",
    "            self.b_i[j] += self.alpha * (e - self.beta * self.b_i[j])\n",
    "\n",
    "            self.P[i, :] += self.alpha * (e * self.Q[j, :] - self.beta * self.P[i,:])\n",
    "            self.Q[j, :] += self.alpha * (e * self.P[i, :] - self.beta * self.Q[j,:])\n",
    "\n",
    "    # Ratings for user i and moive j\n",
    "    def get_rating(self, i, j):\n",
    "        prediction = self.b + self.b_u[i] + self.b_i[j] + self.P[i, :].dot(self.Q[j, :].T)\n",
    "        return prediction\n",
    "\n",
    "    # Full user-movie rating matrix\n",
    "    def full_matrix(self):\n",
    "        return mf.b + mf.b_u[:,np.newaxis] + mf.b_i[np.newaxis:,] + mf.P.dot(mf.Q.T)"
   ]
  },
  {
   "cell_type": "code",
   "execution_count": 35,
   "metadata": {
    "execution": {
     "iopub.execute_input": "2022-11-20T08:55:47.918253Z",
     "iopub.status.busy": "2022-11-20T08:55:47.917618Z",
     "iopub.status.idle": "2022-11-20T08:55:48.779362Z",
     "shell.execute_reply": "2022-11-20T08:55:48.778278Z",
     "shell.execute_reply.started": "2022-11-20T08:55:47.918202Z"
    }
   },
   "outputs": [],
   "source": [
    "R= np.array(newratings.pivot(index = 'userId', columns ='movieId', values = 'rating').fillna(0))"
   ]
  },
  {
   "cell_type": "code",
   "execution_count": 36,
   "metadata": {
    "execution": {
     "iopub.execute_input": "2022-11-20T08:55:52.567554Z",
     "iopub.status.busy": "2022-11-20T08:55:52.567174Z",
     "iopub.status.idle": "2022-11-20T09:15:36.195735Z",
     "shell.execute_reply": "2022-11-20T09:15:36.194515Z",
     "shell.execute_reply.started": "2022-11-20T08:55:52.567521Z"
    }
   },
   "outputs": [
    {
     "name": "stdout",
     "output_type": "stream",
     "text": [
      "Iteration: 20 ; error = 670.6139\n",
      "Iteration: 40 ; error = 658.6856\n",
      "Iteration: 60 ; error = 639.8731\n",
      "Iteration: 80 ; error = 612.9872\n",
      "Iteration: 100 ; error = 586.2848\n",
      "\n",
      "P x Q:\n",
      "[[3.89585116 3.50587774 3.38063105 ... 3.60152406 3.32942715 3.63702529]\n",
      " [4.56034147 4.06825714 3.67680166 ... 4.02934032 3.73607595 4.00593663]\n",
      " [4.41096763 3.63443696 3.64297494 ... 4.01879714 3.7750043  4.0330084 ]\n",
      " ...\n",
      " [3.56355942 2.72518559 2.51236584 ... 2.99296843 2.74143553 2.96504291]\n",
      " [3.96775882 3.27859994 3.28045892 ... 3.5996651  3.37641091 3.61134982]\n",
      " [3.84667917 3.10060337 3.04478959 ... 3.518118   3.37399045 3.61009454]]\n",
      "\n"
     ]
    }
   ],
   "source": [
    "mf = MF(R, K=20, alpha=0.001, beta=0.01, iterations=100)\n",
    "training_process = mf.train()\n",
    "print()\n",
    "print(\"P x Q:\")\n",
    "print(mf.full_matrix())\n",
    "print()"
   ]
  }
 ],
 "metadata": {
  "kernelspec": {
   "display_name": "ML-Fangyi",
   "language": "python",
   "name": "python3"
  },
  "language_info": {
   "codemirror_mode": {
    "name": "ipython",
    "version": 3
   },
   "file_extension": ".py",
   "mimetype": "text/x-python",
   "name": "python",
   "nbconvert_exporter": "python",
   "pygments_lexer": "ipython3",
   "version": "3.7.13"
  },
  "vscode": {
   "interpreter": {
    "hash": "4432a638da85df2eac8ec43ea9c94b082f690ae361de5e88971ad3b281286f99"
   }
  }
 },
 "nbformat": 4,
 "nbformat_minor": 4
}
