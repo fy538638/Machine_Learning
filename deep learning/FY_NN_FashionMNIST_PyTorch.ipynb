{
 "cells": [
  {
   "cell_type": "markdown",
   "metadata": {},
   "source": [
    "# Assignment 2\n",
    "## Create a Neural Network using PyTorch for FashionMNIST dataset"
   ]
  },
  {
   "cell_type": "code",
   "execution_count": 1,
   "metadata": {},
   "outputs": [],
   "source": [
    "%matplotlib inline"
   ]
  },
  {
   "cell_type": "markdown",
   "metadata": {},
   "source": [
    "\n",
    "\n",
    "# NN with PyTorch\n",
    "\n",
    "PyTorch has two primitives to work with data <https://pytorch.org/docs/stable/data.html>: \n",
    "- ``torch.utils.data.DataLoader`` and \n",
    "- ``torch.utils.data.Dataset``.\n",
    "\n",
    "``Dataset`` stores the samples and their corresponding labels, and ``DataLoader`` wraps an iterable around\n",
    "the ``Dataset``.\n",
    "\n",
    "\n"
   ]
  },
  {
   "cell_type": "markdown",
   "metadata": {},
   "source": [
    "### Import the necessary libraries"
   ]
  },
  {
   "cell_type": "code",
   "execution_count": 2,
   "metadata": {},
   "outputs": [],
   "source": [
    "import torch\n",
    "from torch.utils.data import Dataset\n",
    "from torchvision import datasets\n",
    "from torchvision.transforms import ToTensor, Lambda\n",
    "import matplotlib.pyplot as plt"
   ]
  },
  {
   "cell_type": "markdown",
   "metadata": {},
   "source": [
    "PyTorch offers domain-specific libraries such as \n",
    "- `TorchText <https://pytorch.org/text/stable/index.html>`_, \n",
    "- `TorchVision <https://pytorch.org/vision/stable/index.html>`_, and \n",
    "- `TorchAudio <https://pytorch.org/audio/stable/index.html>`_, \n",
    "all of which include datasets. For this tutorial, we  will be using a TorchVision dataset.\n",
    "\n",
    "The ``torchvision.datasets`` module contains ``Dataset`` objects for many real-world vision data like \n",
    "CIFAR, COCO (`full list here <https://pytorch.org/docs/stable/torchvision/datasets.html>`_). In this tutorial, we\n",
    "use the FashionMNIST dataset. Every TorchVision ``Dataset`` includes two arguments: ``transform`` and\n",
    "``target_transform`` to modify the samples and labels respectively.\n",
    "\n"
   ]
  },
  {
   "cell_type": "markdown",
   "metadata": {},
   "source": [
    "### Download training data from open datasets"
   ]
  },
  {
   "cell_type": "code",
   "execution_count": 4,
   "metadata": {},
   "outputs": [],
   "source": [
    "training_data = datasets.FashionMNIST(root=\"data\",train=True,download=True,transform=ToTensor())"
   ]
  },
  {
   "cell_type": "markdown",
   "metadata": {},
   "source": [
    "### Download test data from open datasets"
   ]
  },
  {
   "cell_type": "code",
   "execution_count": 5,
   "metadata": {},
   "outputs": [],
   "source": [
    "test_data = datasets.FashionMNIST(root=\"data\",train=False,download=True,transform=ToTensor())"
   ]
  },
  {
   "cell_type": "markdown",
   "metadata": {},
   "source": [
    "We pass the ``Dataset`` as an argument to ``DataLoader``. This wraps an iterable over our dataset, and supports\n",
    "automatic batching, sampling, shuffling and multiprocess data loading. Here we define a batch size of 64, i.e. each element \n",
    "in the dataloader iterable will return a batch of 64 features and labels.\n",
    "\n"
   ]
  },
  {
   "cell_type": "code",
   "execution_count": 6,
   "metadata": {},
   "outputs": [],
   "source": [
    "batch_size = 64\n",
    "\n",
    "# Create data loaders\n",
    "from torch.utils.data import DataLoader\n",
    "\n",
    "train_dataloader = DataLoader(training_data, batch_size, shuffle=True)\n",
    "test_dataloader = DataLoader(test_data, batch_size, shuffle=True)"
   ]
  },
  {
   "cell_type": "markdown",
   "metadata": {},
   "source": [
    "--------------\n",
    "\n",
    "\n"
   ]
  },
  {
   "cell_type": "markdown",
   "metadata": {},
   "source": [
    "Creating Models\n",
    "------------------\n",
    "To define a neural network in PyTorch, we create a class that inherits \n",
    "from `nn.Module <https://pytorch.org/docs/stable/generated/torch.nn.Module.html>`_. \n",
    "\n",
    "We define the layers of the network in the ``__init__`` function and specify how data will pass through the network in the ``forward`` function. \n",
    "\n",
    "To accelerate operations in the neural network, we move it to the GPU if available.\n",
    "\n"
   ]
  },
  {
   "cell_type": "markdown",
   "metadata": {},
   "source": [
    "### Get cpu or gpu device for training"
   ]
  },
  {
   "cell_type": "code",
   "execution_count": 7,
   "metadata": {},
   "outputs": [
    {
     "name": "stdout",
     "output_type": "stream",
     "text": [
      "Using cpu device\n"
     ]
    }
   ],
   "source": [
    "device = 'cuda' if torch.cuda.is_available() else 'cpu'\n",
    "print('Using {} device'.format(device))"
   ]
  },
  {
   "cell_type": "markdown",
   "metadata": {},
   "source": [
    "### Define model\n",
    "- Flatten the image\n",
    "- Sequential Layers\n",
    "    - Linear layer\n",
    "    - ReLU layer"
   ]
  },
  {
   "cell_type": "code",
   "execution_count": 9,
   "metadata": {},
   "outputs": [],
   "source": [
    "from torch import nn\n",
    "\n",
    "class NeuralNetwork(nn.Module):\n",
    "    def __init__(self):\n",
    "        super(NeuralNetwork, self).__init__()\n",
    "        self.flatten = nn.Flatten()\n",
    "        self.linear_relu_stack = nn.Sequential(\n",
    "            nn.Linear(28*28, 512),\n",
    "            nn.ReLU(),\n",
    "            nn.Linear(512, 512),\n",
    "            nn.ReLU(),\n",
    "            nn.Linear(512, 10),\n",
    "            nn.ReLU()\n",
    "        )\n",
    "\n",
    "    def forward(self, x):\n",
    "        x = self.flatten(x)\n",
    "        logits = self.linear_relu_stack(x)\n",
    "        return logits"
   ]
  },
  {
   "cell_type": "code",
   "execution_count": 10,
   "metadata": {},
   "outputs": [
    {
     "name": "stdout",
     "output_type": "stream",
     "text": [
      "NeuralNetwork(\n",
      "  (flatten): Flatten(start_dim=1, end_dim=-1)\n",
      "  (linear_relu_stack): Sequential(\n",
      "    (0): Linear(in_features=784, out_features=512, bias=True)\n",
      "    (1): ReLU()\n",
      "    (2): Linear(in_features=512, out_features=512, bias=True)\n",
      "    (3): ReLU()\n",
      "    (4): Linear(in_features=512, out_features=10, bias=True)\n",
      "    (5): ReLU()\n",
      "  )\n",
      ")\n"
     ]
    }
   ],
   "source": [
    "model = NeuralNetwork().to(device)\n",
    "print(model)"
   ]
  },
  {
   "cell_type": "markdown",
   "metadata": {},
   "source": [
    "--------------\n",
    "\n",
    "\n"
   ]
  },
  {
   "cell_type": "markdown",
   "metadata": {},
   "source": [
    "Optimizing the Model Parameters\n",
    "----------------------------------------\n",
    "To train a model, we need\n",
    "- `loss function` <https://pytorch.org/docs/stable/nn.html#loss-functions>\n",
    "- `optimizer` <https://pytorch.org/docs/stable/optim.html> \n",
    "\n"
   ]
  },
  {
   "cell_type": "code",
   "execution_count": 11,
   "metadata": {},
   "outputs": [],
   "source": [
    "loss_fn = nn.CrossEntropyLoss()"
   ]
  },
  {
   "cell_type": "code",
   "execution_count": 12,
   "metadata": {},
   "outputs": [],
   "source": [
    "learning_rate = 1e-3\n",
    "optimizer = torch.optim.SGD(model.parameters(), lr=learning_rate)"
   ]
  },
  {
   "cell_type": "markdown",
   "metadata": {},
   "source": [
    "In a single training loop, the model makes predictions on the training dataset (fed to it in batches), and \n",
    "backpropagates the prediction error to adjust the model's parameters. \n",
    "\n"
   ]
  },
  {
   "cell_type": "code",
   "execution_count": 13,
   "metadata": {},
   "outputs": [],
   "source": [
    "def train(dataloader, model, loss_fn, optimizer):\n",
    "    size = len(dataloader.dataset)\n",
    "    for batch, (X, y) in enumerate(dataloader):        \n",
    "        # Compute prediction and loss\n",
    "        pred = model(X)\n",
    "        loss = loss_fn(pred, y)\n",
    "        \n",
    "        # Backpropagation\n",
    "        optimizer.zero_grad()\n",
    "        loss.backward()\n",
    "        optimizer.step()\n",
    "\n",
    "        if batch % 100 == 0:\n",
    "            loss, current = loss.item(), batch * len(X)\n",
    "            print(f\"loss: {loss:>7f}  [{current:>5d}/{size:>5d}]\")"
   ]
  },
  {
   "cell_type": "markdown",
   "metadata": {},
   "source": [
    "We also check the model's performance against the test dataset to ensure it is learning.\n",
    "\n"
   ]
  },
  {
   "cell_type": "code",
   "execution_count": 19,
   "metadata": {},
   "outputs": [],
   "source": [
    "def test(dataloader, model, loss_fn):\n",
    "    size = len(dataloader.dataset)\n",
    "    test_loss, correct = 0, 0\n",
    "\n",
    "    with torch.no_grad():\n",
    "        for X, y in dataloader:\n",
    "            pred = model(X)\n",
    "            test_loss += loss_fn(pred, y).item()\n",
    "            correct += (pred.argmax(1) == y).type(torch.float).sum().item()\n",
    "            \n",
    "    test_loss /= size\n",
    "    correct /= size\n",
    "    print(f\"Test Error: \\n Accuracy: {(100*correct):>0.1f}%, Avg loss: {test_loss:>8f} \\n\")"
   ]
  },
  {
   "cell_type": "markdown",
   "metadata": {},
   "source": [
    "The training process is conducted over several iterations (*epochs*). During each epoch, the model learns \n",
    "parameters to make better predictions. We print the model's accuracy and loss at each epoch; we'd like to see the\n",
    "accuracy increase and the loss decrease with every epoch.\n",
    "\n"
   ]
  },
  {
   "cell_type": "code",
   "execution_count": 20,
   "metadata": {},
   "outputs": [
    {
     "name": "stdout",
     "output_type": "stream",
     "text": [
      "Epoch 1\n",
      "-------------------------------\n",
      "loss: 2.188160  [    0/60000]\n",
      "loss: 2.264143  [ 6400/60000]\n",
      "loss: 2.180099  [12800/60000]\n",
      "loss: 2.190869  [19200/60000]\n",
      "loss: 2.138578  [25600/60000]\n",
      "loss: 2.217078  [32000/60000]\n",
      "loss: 2.220592  [38400/60000]\n",
      "loss: 2.274604  [44800/60000]\n",
      "loss: 2.092018  [51200/60000]\n",
      "loss: 2.227077  [57600/60000]\n",
      "Test Error: \n",
      " Accuracy: 28.8%, Avg loss: 0.033909 \n",
      "\n",
      "Epoch 2\n",
      "-------------------------------\n",
      "loss: 2.144667  [    0/60000]\n",
      "loss: 2.224989  [ 6400/60000]\n",
      "loss: 2.117445  [12800/60000]\n",
      "loss: 2.145448  [19200/60000]\n",
      "loss: 2.090295  [25600/60000]\n",
      "loss: 2.139733  [32000/60000]\n",
      "loss: 2.178716  [38400/60000]\n",
      "loss: 1.989480  [44800/60000]\n",
      "loss: 2.142176  [51200/60000]\n",
      "loss: 2.007169  [57600/60000]\n",
      "Test Error: \n",
      " Accuracy: 28.9%, Avg loss: 0.032791 \n",
      "\n",
      "Epoch 3\n",
      "-------------------------------\n",
      "loss: 1.984472  [    0/60000]\n",
      "loss: 1.971917  [ 6400/60000]\n",
      "loss: 2.137500  [12800/60000]\n",
      "loss: 2.169159  [19200/60000]\n",
      "loss: 2.050408  [25600/60000]\n",
      "loss: 2.133822  [32000/60000]\n",
      "loss: 2.089270  [38400/60000]\n",
      "loss: 2.115380  [44800/60000]\n",
      "loss: 1.950061  [51200/60000]\n",
      "loss: 2.021346  [57600/60000]\n",
      "Test Error: \n",
      " Accuracy: 29.9%, Avg loss: 0.031851 \n",
      "\n",
      "Epoch 4\n",
      "-------------------------------\n",
      "loss: 2.167880  [    0/60000]\n",
      "loss: 2.125344  [ 6400/60000]\n",
      "loss: 1.987771  [12800/60000]\n",
      "loss: 2.022240  [19200/60000]\n",
      "loss: 2.038690  [25600/60000]\n",
      "loss: 1.908354  [32000/60000]\n",
      "loss: 2.077118  [38400/60000]\n",
      "loss: 2.028089  [44800/60000]\n",
      "loss: 2.072989  [51200/60000]\n",
      "loss: 1.934352  [57600/60000]\n",
      "Test Error: \n",
      " Accuracy: 32.1%, Avg loss: 0.031099 \n",
      "\n",
      "Epoch 5\n",
      "-------------------------------\n",
      "loss: 2.029974  [    0/60000]\n",
      "loss: 1.826433  [ 6400/60000]\n",
      "loss: 1.903561  [12800/60000]\n",
      "loss: 1.854154  [19200/60000]\n",
      "loss: 2.019621  [25600/60000]\n",
      "loss: 1.934324  [32000/60000]\n",
      "loss: 2.104706  [38400/60000]\n",
      "loss: 1.889185  [44800/60000]\n",
      "loss: 1.826570  [51200/60000]\n",
      "loss: 1.845843  [57600/60000]\n",
      "Test Error: \n",
      " Accuracy: 34.6%, Avg loss: 0.030400 \n",
      "\n",
      "Epoch 6\n",
      "-------------------------------\n",
      "loss: 1.896867  [    0/60000]\n",
      "loss: 1.848284  [ 6400/60000]\n",
      "loss: 1.924568  [12800/60000]\n",
      "loss: 2.021676  [19200/60000]\n",
      "loss: 1.915813  [25600/60000]\n",
      "loss: 1.905715  [32000/60000]\n",
      "loss: 1.891261  [38400/60000]\n",
      "loss: 1.924095  [44800/60000]\n",
      "loss: 2.032403  [51200/60000]\n",
      "loss: 1.856948  [57600/60000]\n",
      "Test Error: \n",
      " Accuracy: 36.8%, Avg loss: 0.029885 \n",
      "\n",
      "Epoch 7\n",
      "-------------------------------\n",
      "loss: 1.974028  [    0/60000]\n",
      "loss: 1.941128  [ 6400/60000]\n",
      "loss: 2.052858  [12800/60000]\n",
      "loss: 2.058939  [19200/60000]\n",
      "loss: 2.018226  [25600/60000]\n",
      "loss: 1.946658  [32000/60000]\n",
      "loss: 1.860238  [38400/60000]\n",
      "loss: 1.820509  [44800/60000]\n",
      "loss: 1.890311  [51200/60000]\n",
      "loss: 1.918064  [57600/60000]\n",
      "Test Error: \n",
      " Accuracy: 38.9%, Avg loss: 0.029430 \n",
      "\n",
      "Epoch 8\n",
      "-------------------------------\n",
      "loss: 1.819232  [    0/60000]\n",
      "loss: 1.986703  [ 6400/60000]\n",
      "loss: 1.747284  [12800/60000]\n",
      "loss: 1.650098  [19200/60000]\n",
      "loss: 1.691687  [25600/60000]\n",
      "loss: 1.840740  [32000/60000]\n",
      "loss: 1.677325  [38400/60000]\n",
      "loss: 1.969536  [44800/60000]\n",
      "loss: 1.873848  [51200/60000]\n",
      "loss: 2.067702  [57600/60000]\n",
      "Test Error: \n",
      " Accuracy: 40.1%, Avg loss: 0.029084 \n",
      "\n",
      "Epoch 9\n",
      "-------------------------------\n",
      "loss: 1.800676  [    0/60000]\n",
      "loss: 1.917074  [ 6400/60000]\n",
      "loss: 1.853002  [12800/60000]\n",
      "loss: 1.677758  [19200/60000]\n",
      "loss: 1.961747  [25600/60000]\n",
      "loss: 2.046062  [32000/60000]\n",
      "loss: 1.977961  [38400/60000]\n",
      "loss: 1.916099  [44800/60000]\n",
      "loss: 1.740976  [51200/60000]\n",
      "loss: 1.678430  [57600/60000]\n",
      "Test Error: \n",
      " Accuracy: 41.3%, Avg loss: 0.028833 \n",
      "\n",
      "Epoch 10\n",
      "-------------------------------\n",
      "loss: 1.873492  [    0/60000]\n",
      "loss: 2.030022  [ 6400/60000]\n",
      "loss: 1.831985  [12800/60000]\n",
      "loss: 1.682097  [19200/60000]\n",
      "loss: 1.803898  [25600/60000]\n",
      "loss: 1.825436  [32000/60000]\n",
      "loss: 1.813859  [38400/60000]\n",
      "loss: 1.814794  [44800/60000]\n",
      "loss: 1.876294  [51200/60000]\n",
      "loss: 1.617163  [57600/60000]\n",
      "Test Error: \n",
      " Accuracy: 41.5%, Avg loss: 0.028611 \n",
      "\n",
      "Done!\n"
     ]
    }
   ],
   "source": [
    "loss_fn = nn.CrossEntropyLoss()\n",
    "optimizer = torch.optim.SGD(model.parameters(), lr=learning_rate)\n",
    "\n",
    "epochs = 10\n",
    "for t in range(epochs):\n",
    "    print(f\"Epoch {t+1}\\n-------------------------------\")\n",
    "    train(train_dataloader, model, loss_fn, optimizer)\n",
    "    test(test_dataloader, model, loss_fn)\n",
    "print(\"Done!\")"
   ]
  },
  {
   "cell_type": "markdown",
   "metadata": {},
   "source": [
    "--------------\n",
    "\n",
    "\n"
   ]
  },
  {
   "cell_type": "markdown",
   "metadata": {},
   "source": [
    "Saving Models\n",
    "-------------\n",
    "A common way to save a model is to serialize the internal state dictionary (containing the model parameters).\n",
    "\n"
   ]
  },
  {
   "cell_type": "code",
   "execution_count": 21,
   "metadata": {},
   "outputs": [],
   "source": [
    "torch.save(model, 'themodel.pth')"
   ]
  },
  {
   "cell_type": "markdown",
   "metadata": {},
   "source": [
    "Loading Models\n",
    "----------------------------\n",
    "\n",
    "The process for loading a model includes re-creating the model structure and loading\n",
    "the state dictionary into it. \n",
    "\n"
   ]
  },
  {
   "cell_type": "code",
   "execution_count": 23,
   "metadata": {},
   "outputs": [],
   "source": [
    "themodel = torch.load('themodel.pth')"
   ]
  },
  {
   "cell_type": "markdown",
   "metadata": {},
   "source": [
    "This model can now be used to make predictions.\n",
    "\n"
   ]
  },
  {
   "cell_type": "code",
   "execution_count": 25,
   "metadata": {},
   "outputs": [
    {
     "name": "stdout",
     "output_type": "stream",
     "text": [
      "Predicted: \"Sandal\", Actual: \"Ankle boot\"\n"
     ]
    }
   ],
   "source": [
    "classes = [\n",
    "    \"T-shirt/top\",\n",
    "    \"Trouser\",\n",
    "    \"Pullover\",\n",
    "    \"Dress\",\n",
    "    \"Coat\",\n",
    "    \"Sandal\",\n",
    "    \"Shirt\",\n",
    "    \"Sneaker\",\n",
    "    \"Bag\",\n",
    "    \"Ankle boot\",\n",
    "]\n",
    "\n",
    "model.eval()\n",
    "x, y = test_data[0][0], test_data[0][1]\n",
    "with torch.no_grad():\n",
    "    pred = model(x)\n",
    "    predicted, actual = classes[pred[0].argmax(0)], classes[y]\n",
    "    print(f'Predicted: \"{predicted}\", Actual: \"{actual}\"')"
   ]
  }
 ],
 "metadata": {
  "kernelspec": {
   "display_name": "ML-Fangyi",
   "language": "python",
   "name": "ml-fangyi"
  },
  "language_info": {
   "codemirror_mode": {
    "name": "ipython",
    "version": 3
   },
   "file_extension": ".py",
   "mimetype": "text/x-python",
   "name": "python",
   "nbconvert_exporter": "python",
   "pygments_lexer": "ipython3",
   "version": "3.7.13"
  }
 },
 "nbformat": 4,
 "nbformat_minor": 1
}
